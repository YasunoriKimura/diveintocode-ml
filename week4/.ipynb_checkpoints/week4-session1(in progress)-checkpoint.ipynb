{
 "cells": [
  {
   "cell_type": "markdown",
   "metadata": {},
   "source": [
    "# Week4授業課題 信用情報を学習しよう"
   ]
  },
  {
   "cell_type": "markdown",
   "metadata": {},
   "source": [
    "## 【問題1】パイプラインの作成"
   ]
  },
  {
   "cell_type": "code",
   "execution_count": 1,
   "metadata": {},
   "outputs": [],
   "source": [
    "import pandas as pd\n",
    "import matplotlib.pyplot as plt\n",
    "import numpy as np\n",
    "from sklearn.model_selection import train_test_split\n",
    "from sklearn.preprocessing import StandardScaler\n",
    "from sklearn.metrics import accuracy_score, precision_score, recall_score, f1_score, confusion_matrix\n",
    "from tqdm import tqdm_notebook as tqdm\n",
    "\n",
    "\n",
    "df_train = pd.read_csv('application_train.csv').sample(frac=1)[:50000]\n",
    "df_X = df_train.drop(\"TARGET\", axis=1)\n",
    "df_Y = df_train[[\"TARGET\"]]\n",
    "\n",
    "#カテゴリーを数値変換\n",
    "categorical_feats = [\n",
    "    f for f in df_X.columns if df_X[f].dtype == 'object'\n",
    "]\n",
    "categorical_feats_ = categorical_feats.copy()\n",
    "\n",
    "for f in categorical_feats_:\n",
    "    df_X[f], _ = pd.factorize(df_X[f])\n",
    "    df_X[f] = df_X[f].astype('int')\n",
    "    \n",
    "#残りの欠損値を平均で埋める\n",
    "df_X = df_X.fillna(df_X.mean())\n",
    "\n",
    "#データ分割\n",
    "(X_train, X_test, \n",
    "     y_train, y_test) = train_test_split(df_X.values, df_Y.values.flatten(), test_size=0.3)\n",
    "\n",
    "#標準化\n",
    "scaler = StandardScaler()\n",
    "scaler.fit(X_train)\n",
    "X_train = scaler.transform(X_train)\n",
    "X_test = scaler.transform(X_test)"
   ]
  },
  {
   "cell_type": "code",
   "execution_count": 2,
   "metadata": {},
   "outputs": [
    {
     "name": "stderr",
     "output_type": "stream",
     "text": [
      "/Users/clouds_kimura/anaconda3/envs/pythonml/lib/python3.6/site-packages/sklearn/linear_model/logistic.py:433: FutureWarning: Default solver will be changed to 'lbfgs' in 0.22. Specify a solver to silence this warning.\n",
      "  FutureWarning)\n"
     ]
    }
   ],
   "source": [
    "from sklearn.linear_model import LogisticRegression\n",
    "\n",
    "clf_logistic = LogisticRegression().fit(X_train, y_train)\n",
    "y_predict_logistic = clf_logistic.predict(X_test)\n",
    "y_predict_proba_logistic = clf_logistic.predict_proba(X_test)"
   ]
  },
  {
   "cell_type": "code",
   "execution_count": 3,
   "metadata": {},
   "outputs": [
    {
     "data": {
      "text/html": [
       "<div>\n",
       "<style scoped>\n",
       "    .dataframe tbody tr th:only-of-type {\n",
       "        vertical-align: middle;\n",
       "    }\n",
       "\n",
       "    .dataframe tbody tr th {\n",
       "        vertical-align: top;\n",
       "    }\n",
       "\n",
       "    .dataframe thead th {\n",
       "        text-align: right;\n",
       "    }\n",
       "</style>\n",
       "<table border=\"1\" class=\"dataframe\">\n",
       "  <thead>\n",
       "    <tr style=\"text-align: right;\">\n",
       "      <th></th>\n",
       "      <th>accuracy</th>\n",
       "      <th>precision</th>\n",
       "      <th>recall</th>\n",
       "      <th>f1</th>\n",
       "    </tr>\n",
       "  </thead>\n",
       "  <tbody>\n",
       "    <tr>\n",
       "      <th>LogisticRegression</th>\n",
       "      <td>0.9194</td>\n",
       "      <td>0.36</td>\n",
       "      <td>0.007488</td>\n",
       "      <td>0.01467</td>\n",
       "    </tr>\n",
       "  </tbody>\n",
       "</table>\n",
       "</div>"
      ],
      "text/plain": [
       "                    accuracy  precision    recall       f1\n",
       "LogisticRegression    0.9194       0.36  0.007488  0.01467"
      ]
     },
     "execution_count": 3,
     "metadata": {},
     "output_type": "execute_result"
    }
   ],
   "source": [
    "estimation_logistic_dict = {\n",
    "    \"accuracy\": accuracy_score(y_test, y_predict_logistic),\n",
    "    \"precision\": precision_score(y_test, y_predict_logistic),\n",
    "    \"recall\": recall_score(y_test, y_predict_logistic),\n",
    "    \"f1\":f1_score(y_test, y_predict_logistic)\n",
    "}\n",
    "\n",
    "estimation_logistic = pd.DataFrame(estimation_logistic_dict, index=['LogisticRegression'])\n",
    "estimation_logistic"
   ]
  },
  {
   "cell_type": "code",
   "execution_count": 4,
   "metadata": {},
   "outputs": [],
   "source": [
    "\"\"\"\n",
    "テストデータを読み込み、処理\n",
    "\"\"\"\n",
    "\n",
    "df_apptest = pd.read_csv('application_test.csv')\n",
    "\n",
    "#カテゴリーを数値変換\n",
    "categorical_feats = [\n",
    "    f for f in df_apptest.columns if df_apptest[f].dtype == 'object'\n",
    "]\n",
    "categorical_feats_ = categorical_feats.copy()\n",
    "\n",
    "for f in categorical_feats_:\n",
    "    df_apptest[f], _ = pd.factorize(df_apptest[f])\n",
    "    df_apptest[f] = df_apptest[f].astype('int')\n",
    "    \n",
    "#残りの欠損値を平均で埋める\n",
    "df_apptest = df_apptest.fillna(df_apptest.mean())\n",
    "\n",
    "X_apptest = df_apptest.values\n",
    "\n",
    "#標準化\n",
    "scaler.fit(X_apptest)\n",
    "X_apptest = scaler.transform(X_apptest)"
   ]
  },
  {
   "cell_type": "code",
   "execution_count": 5,
   "metadata": {},
   "outputs": [],
   "source": [
    "#予測\n",
    "y_apt_predict_logistic = clf_logistic.predict(X_apptest)"
   ]
  },
  {
   "cell_type": "code",
   "execution_count": 6,
   "metadata": {},
   "outputs": [],
   "source": [
    "\"\"\"\n",
    "csvファイルへ書き込み\n",
    "\"\"\"\n",
    "\n",
    "import csv as csv\n",
    "\n",
    "submit_file = open(\"home_credit_submit.csv\", \"w\")\n",
    "file_object = csv.writer(submit_file)\n",
    "file_object.writerow([\"SK_ID_CURR\", \"TARGET\"])\n",
    "file_object.writerows(zip(df_apptest[\"SK_ID_CURR\"].values, y_predict_logistic))\n",
    "submit_file.close()"
   ]
  },
  {
   "cell_type": "markdown",
   "metadata": {},
   "source": [
    "uploadしてAUCが0.54だったのでかなり低い。ほぼ最低値"
   ]
  },
  {
   "cell_type": "markdown",
   "metadata": {},
   "source": [
    "## 【問題2】指標値の関数作成"
   ]
  },
  {
   "cell_type": "markdown",
   "metadata": {},
   "source": [
    "まずは、sklearnで用意されているroc_curveでグラフを描画し、イメージを掴む。  \n",
    "AUC＝曲線の下側の面積なので、関数を作成し面積を求める。  \n",
    "最後にsklearnに用意されているroc_auc_scoreで確認する。"
   ]
  },
  {
   "cell_type": "code",
   "execution_count": 7,
   "metadata": {},
   "outputs": [
    {
     "data": {
      "image/png": "[encoded data removed]",
      "text/plain": [
       "<Figure size 432x288 with 1 Axes>"
      ]
     },
     "metadata": {
      "needs_background": "light"
     },
     "output_type": "display_data"
    }
   ],
   "source": [
    "from sklearn import metrics\n",
    "\n",
    "#ｆｐｒ、tpr、閾値を算出\n",
    "fpr, tpr, thresholds = metrics.roc_curve(y_test, y_predict_proba_logistic[:, 1])\n",
    "\n",
    "#ROC曲線をプロット\n",
    "plt.plot(fpr, tpr)\n",
    "plt.title(\"ROC curve\")\n",
    "plt.xlabel(\"False Positive Rate\")\n",
    "plt.ylabel(\"True Positive Rate\")\n",
    "plt.show()"
   ]
  },
  {
   "cell_type": "markdown",
   "metadata": {},
   "source": [
    "AUCを求める関数を作成する手順  \n",
    "①予測スコアとラベルをデータフレーム化し、予測スコアの降順でソート(df_auc_calculation)  \n",
    "②関数を作成\n",
    "　曲線の面積を求めるので、イメージ的には積分。  \n",
    "　false_positiveの増加分×true_positiveの増加分で出来たの長方形の面積の逐次計算。  \n",
    "　最後に面積の最大値であるfalse_positive×true_positiveとの割合を求める。"
   ]
  },
  {
   "cell_type": "code",
   "execution_count": 8,
   "metadata": {},
   "outputs": [],
   "source": [
    "#予測スコアとラベルをデータフレーム化、予測スコア降順でソート\n",
    "df_auc_calculation = pd.DataFrame({\n",
    "    'score': y_predict_proba_logistic[:, 1],\n",
    "    'label': y_test\n",
    "}).sort_values('score', ascending=False)"
   ]
  },
  {
   "cell_type": "code",
   "execution_count": 9,
   "metadata": {},
   "outputs": [],
   "source": [
    "#AUCを計算する式\n",
    "def calculate_auc():\n",
    "    true_positive = 0\n",
    "    false_positive = 0\n",
    "    sum = 0\n",
    "\n",
    "    for i in df_auc_calculation[['label']].values.flatten():\n",
    "        if i == 1:\n",
    "            true_positive += 1\n",
    "        else:\n",
    "            sum += true_positive\n",
    "            false_positive += 1\n",
    "            \n",
    "    total = sum / (true_positive * false_positive)\n",
    "    \n",
    "    return total"
   ]
  },
  {
   "cell_type": "code",
   "execution_count": 10,
   "metadata": {},
   "outputs": [
    {
     "data": {
      "text/plain": [
       "0.7315478816168347"
      ]
     },
     "execution_count": 10,
     "metadata": {},
     "output_type": "execute_result"
    }
   ],
   "source": [
    "calculate_auc()"
   ]
  },
  {
   "cell_type": "code",
   "execution_count": 11,
   "metadata": {},
   "outputs": [
    {
     "data": {
      "text/plain": [
       "0.7315478816168348"
      ]
     },
     "execution_count": 11,
     "metadata": {},
     "output_type": "execute_result"
    }
   ],
   "source": [
    "#sklearnに用意されているAUC算出関数\n",
    "from sklearn.metrics import roc_auc_score\n",
    "\n",
    "roc_auc_score(y_test, y_predict_proba_logistic[:, 1])"
   ]
  },
  {
   "cell_type": "markdown",
   "metadata": {},
   "source": [
    "#### 考察\n",
    "自作関数とroc_auc_scoreで求めた数値は同値であった。  \n",
    "Kaggleで算出されたAUC0.54と算出したAUC0.74には大きな差があった。  \n",
    "recallが低いということはFNが多かったということなので、Negativeと判断して間違えていたものが多い。  \n",
    "元々のデータに偏り（おおよそ9:1）が影響していたと考えられる。  \n",
    "さらに学習データとテストデータ分割でpositive:negative = 9:1になっていない可能性がある。  \n",
    "問題３では分割後のクラスのバランスを確認し、悪ければ保持したまま分割させて精度を確認する。  \n",
    "また、学習を１度だけでなく割合保持したまま複数回実施したほうがいいと考えられるがデータ数が多いので難しい。"
   ]
  },
  {
   "cell_type": "markdown",
   "metadata": {},
   "source": [
    "## 【問題3】前処理・Feature Engineering・学習"
   ]
  },
  {
   "cell_type": "markdown",
   "metadata": {},
   "source": [
    "#### クラスバランスが保持されているか確認"
   ]
  },
  {
   "cell_type": "code",
   "execution_count": 12,
   "metadata": {},
   "outputs": [
    {
     "data": {
      "text/plain": [
       "(array([0, 1]), array([32208,  2792]))"
      ]
     },
     "execution_count": 12,
     "metadata": {},
     "output_type": "execute_result"
    }
   ],
   "source": [
    "#トレーニングデータの「０」「１」数\n",
    "np.unique(y_train, return_counts=True)"
   ]
  },
  {
   "cell_type": "code",
   "execution_count": 13,
   "metadata": {},
   "outputs": [
    {
     "data": {
      "text/plain": [
       "array([0.92022857, 0.07977143])"
      ]
     },
     "execution_count": 13,
     "metadata": {},
     "output_type": "execute_result"
    }
   ],
   "source": [
    "#トレーニングデータの「０」「１」の割合\n",
    "np.unique(y_train, return_counts=True) [1]/ y_train.size"
   ]
  },
  {
   "cell_type": "code",
   "execution_count": 14,
   "metadata": {},
   "outputs": [
    {
     "data": {
      "text/plain": [
       "array([0.91986667, 0.08013333])"
      ]
     },
     "execution_count": 14,
     "metadata": {},
     "output_type": "execute_result"
    }
   ],
   "source": [
    "#検証データの「０」「１」の割合\n",
    "np.unique(y_test, return_counts=True)[1] / y_test.size"
   ]
  },
  {
   "cell_type": "markdown",
   "metadata": {},
   "source": [
    "おおよそ9:1が保たれていた。分割前後で保たれていたというということはやはりnegativeが少なすぎると言うこと。  \n",
    "不均衡データではどの学習モデルが良いか確認のため、複数のモデルを使用して確認する。"
   ]
  },
  {
   "cell_type": "markdown",
   "metadata": {},
   "source": [
    "### KNeighbors"
   ]
  },
  {
   "cell_type": "code",
   "execution_count": null,
   "metadata": {},
   "outputs": [],
   "source": [
    "#KNeighbors（K=5）\n",
    "from sklearn.neighbors import KNeighborsClassifier\n",
    "\n",
    "#パラメータn_neighbors=3の場合で学習\n",
    "neigh_5nn = KNeighborsClassifier(n_neighbors=5, weights='uniform', algorithm='auto', \n",
    "leaf_size=30, p=2, metric='minkowski', metric_params=None, n_jobs=1)\n",
    "neigh_5nn.fit(X_train, y_train)\n",
    "y_predict_neigh_5nn = neigh_5nn.predict(X_test)\n",
    "y_predict_proba_neigh_5nn = neigh_5nn.predict_proba(X_test)\n",
    "\n",
    "estimation_neigh_5nn_dict = {\n",
    "    \"accuracy\": accuracy_score(y_test, y_predict_neigh_5nn),\n",
    "    \"precision\": precision_score(y_test, y_predict_neigh_5nn),\n",
    "    \"recall\": recall_score(y_test, y_predict_neigh_5nn) ,\n",
    "    \"f1\":f1_score(y_test, y_predict_neigh_5nn)\n",
    "}\n",
    "estimation_neigh_5nn = pd.DataFrame(estimation_neigh_5nn_dict, index=['KNeighborsClassifier'])\n",
    "\n",
    "estimation_neigh_5nn\n"
   ]
  },
  {
   "cell_type": "code",
   "execution_count": null,
   "metadata": {},
   "outputs": [],
   "source": [
    "roc_auc_score(y_test, y_predict_proba_neigh_5nn[:, 1])"
   ]
  },
  {
   "cell_type": "markdown",
   "metadata": {},
   "source": [
    "### SVC"
   ]
  },
  {
   "cell_type": "code",
   "execution_count": null,
   "metadata": {},
   "outputs": [],
   "source": [
    "# #SVC\n",
    "from sklearn.svm import SVC\n",
    "\n",
    "clf_svc = SVC(probability=True).fit(X_train, y_train)\n",
    "y_predict_svc = clf_svc.predict(X_test)\n",
    "y_predict_proba_svc = clf_svc.predict_proba(X_test)\n",
    "\n",
    "estimation_svc_dict = {\n",
    "    \"accuracy\": accuracy_score(y_test, y_predict_svc),\n",
    "    \"precision\": precision_score(y_test, y_predict_svc),\n",
    "    \"recall\": recall_score(y_test, y_predict_svc),\n",
    "    \"f1\":f1_score(y_test, y_predict_svc)\n",
    "}\n",
    "\n",
    "estimation_svc = pd.DataFrame(estimation_svc_dict, index=['Support Vector Classification'])\n",
    "estimation_svc"
   ]
  },
  {
   "cell_type": "code",
   "execution_count": null,
   "metadata": {},
   "outputs": [],
   "source": [
    "roc_auc_score(y_test, y_predict_proba_svc[:, 1])"
   ]
  },
  {
   "cell_type": "markdown",
   "metadata": {},
   "source": [
    "### DecisionTreeClassifier"
   ]
  },
  {
   "cell_type": "code",
   "execution_count": null,
   "metadata": {},
   "outputs": [],
   "source": [
    "#DecisionTreeClassifier\n",
    "from sklearn.model_selection import cross_val_score\n",
    "from sklearn.tree import DecisionTreeClassifier\n",
    "\n",
    "clf_dtc = DecisionTreeClassifier(random_state=0).fit(X_train, y_train)\n",
    "y_predict_dtc = clf_dtc.predict(X_test)\n",
    "y_predict_proba_dtc = clf_dtc.predict_proba(X_test)\n",
    "\n",
    "estimation_dtc_dict = {\n",
    "    \"accuracy\": accuracy_score(y_test, y_predict_dtc),\n",
    "    \"precision\": precision_score(y_test, y_predict_dtc),\n",
    "    \"recall\": recall_score(y_test, y_predict_dtc),\n",
    "    \"f1\":f1_score(y_test, y_predict_dtc)\n",
    "}\n",
    "estimation_dtc = pd.DataFrame(estimation_dtc_dict, index=['DecisionTreeClassifier'])\n",
    "estimation_dtc"
   ]
  },
  {
   "cell_type": "code",
   "execution_count": null,
   "metadata": {},
   "outputs": [],
   "source": [
    "roc_auc_score(y_test, y_predict_proba_dtc[:, 1])"
   ]
  },
  {
   "cell_type": "markdown",
   "metadata": {},
   "source": [
    "### RandomForestClassifier"
   ]
  },
  {
   "cell_type": "code",
   "execution_count": null,
   "metadata": {},
   "outputs": [],
   "source": [
    "#RandomForestClassifier\n",
    "from sklearn.ensemble import RandomForestClassifier\n",
    "\n",
    "clf_rfc = RandomForestClassifier().fit(X_train, y_train)\n",
    "y_predict_rfc = clf_rfc.predict(X_test)\n",
    "y_predict_proba_rfc = clf_rfc.predict_proba(X_test)\n",
    "\n",
    "estimation_rfc_dict = {\n",
    "    \"accuracy\": accuracy_score(y_test, y_predict_rfc),\n",
    "    \"precision\": precision_score(y_test, y_predict_rfc),\n",
    "    \"recall\": recall_score(y_test, y_predict_rfc),\n",
    "    \"f1\":f1_score(y_test, y_predict_rfc)\n",
    "}\n",
    "estimation_rfc = pd.DataFrame(estimation_rfc_dict, index=['RandomForestClassifier'])\n",
    "estimation_rfc"
   ]
  },
  {
   "cell_type": "code",
   "execution_count": null,
   "metadata": {},
   "outputs": [],
   "source": [
    "roc_auc_score(y_test, y_predict_proba_rfc[:, 1])"
   ]
  },
  {
   "cell_type": "code",
   "execution_count": null,
   "metadata": {},
   "outputs": [],
   "source": []
  },
  {
   "cell_type": "markdown",
   "metadata": {},
   "source": [
    "パラメータを初期値のままで実施すると、ロジスティック回帰が一番よさそうなので、  \n",
    "前処理を変更し、ロジスティック回帰で解析してみる。  \n",
    "前処理として、①アンダーサンプリング、②オーバーサンプリング、③SMOTE　を試すことにする。"
   ]
  },
  {
   "cell_type": "code",
   "execution_count": null,
   "metadata": {
    "scrolled": true
   },
   "outputs": [],
   "source": [
    "df_train = pd.read_csv('application_train.csv').sample(frac=1)[:50000]\n",
    "df_X = df_train.drop(\"TARGET\", axis=1)\n",
    "df_Y = df_train[[\"TARGET\"]]\n",
    "\n",
    "#カテゴリーを数値変換\n",
    "categorical_feats = [\n",
    "    f for f in df_X.columns if df_X[f].dtype == 'object'\n",
    "]\n",
    "categorical_feats_ = categorical_feats.copy()\n",
    "\n",
    "for f in categorical_feats_:\n",
    "    df_X[f], _ = pd.factorize(df_X[f])\n",
    "    df_X[f] = df_X[f].astype('int')\n",
    "    \n",
    "#残りの欠損値を平均で埋める\n",
    "df_X = df_X.fillna(df_X.mean())\n",
    "\n",
    "#データ分割\n",
    "(X_train, X_test, \n",
    "     y_train, y_test) = train_test_split(df_X.values, df_Y.values.flatten(), test_size=0.3)\n",
    "\n",
    "#標準化\n",
    "scaler = StandardScaler()\n",
    "scaler.fit(X_train)\n",
    "X_train = scaler.transform(X_train)\n",
    "X_test = scaler.transform(X_test)"
   ]
  },
  {
   "cell_type": "code",
   "execution_count": null,
   "metadata": {},
   "outputs": [],
   "source": [
    "from imblearn.under_sampling import RandomUnderSampler\n",
    "\n",
    "# 正例の数を保存\n",
    "positive_count_train = y_train.sum()\n",
    "# print('positive count:{}'.format(positive_count_train))とすると7件\n",
    "\n",
    "# 正例が10％になるまで負例をダウンサンプリング\n",
    "rus = RandomUnderSampler(ratio={0:positive_count_train*4, 1:positive_count_train}, random_state=71)\n",
    "\n",
    "# 学習用データに反映\n",
    "X_train_resampled, y_train_resampled = rus.fit_sample(X_train, y_train)"
   ]
  },
  {
   "cell_type": "code",
   "execution_count": null,
   "metadata": {},
   "outputs": [],
   "source": [
    "np.unique(y_train_resampled, return_counts=True) [1]/ y_train_resampled.size"
   ]
  },
  {
   "cell_type": "code",
   "execution_count": null,
   "metadata": {},
   "outputs": [],
   "source": [
    "clf_logistic = LogisticRegression(class_weight='balanced', C=300).fit(X_train, y_train)\n",
    "scores = cross_val_score(\n",
    "    estimator=clf_logistic,  # 分類器を指定\n",
    "    X=X_train_resampled,  # 特徴行列 X を指定\n",
    "    y=y_train_resampled,  # 目的変数 y を指定\n",
    "    cv=10  # データを何分割にして検証するか指定\n",
    ")"
   ]
  },
  {
   "cell_type": "code",
   "execution_count": null,
   "metadata": {},
   "outputs": [],
   "source": [
    "scores"
   ]
  },
  {
   "cell_type": "code",
   "execution_count": null,
   "metadata": {},
   "outputs": [],
   "source": [
    "y_predict_logistic = clf_logistic.predict(X_test)\n",
    "y_predict_proba_logistic = clf_logistic.predict_proba(X_test)\n",
    "\n",
    "estimation_logistic_dict = {\n",
    "    \"accuracy\": accuracy_score(y_test, y_predict_logistic),\n",
    "    \"precision\": precision_score(y_test, y_predict_logistic),\n",
    "    \"recall\": recall_score(y_test, y_predict_logistic),\n",
    "    \"f1\":f1_score(y_test, y_predict_logistic)\n",
    "}\n",
    "\n",
    "estimation_logistic = pd.DataFrame(estimation_logistic_dict, index=['LogisticRegression'])\n",
    "estimation_logistic"
   ]
  },
  {
   "cell_type": "code",
   "execution_count": null,
   "metadata": {},
   "outputs": [],
   "source": [
    "roc_auc_score(y_test, y_predict_proba_logistic[:, 1])"
   ]
  },
  {
   "cell_type": "markdown",
   "metadata": {},
   "source": []
  },
  {
   "cell_type": "code",
   "execution_count": null,
   "metadata": {},
   "outputs": [],
   "source": [
    "from imblearn.over_sampling import RandomOverSampler\n",
    "\n",
    "# 正例を10％まであげる\n",
    "ros = RandomOverSampler(ratio = {0:X_train.shape[0], 1:X_train.shape[0]//4}, random_state = 71)\n",
    "\n",
    "# 学習用データに反映\n",
    "X_train_resampled, y_train_resampled = ros.fit_sample(X_train, y_train)\n"
   ]
  },
  {
   "cell_type": "code",
   "execution_count": null,
   "metadata": {},
   "outputs": [],
   "source": [
    "np.unique(y_train_resampled, return_counts=True) [1]/ y_train_resampled.size"
   ]
  },
  {
   "cell_type": "code",
   "execution_count": null,
   "metadata": {},
   "outputs": [],
   "source": [
    "clf_logistic = LogisticRegression(class_weight='balanced', C=300).fit(X_train, y_train)\n",
    "scores = cross_val_score(\n",
    "    estimator=clf_logistic,  # 分類器を指定\n",
    "    X=X_train_resampled,  # 特徴行列 X を指定\n",
    "    y=y_train_resampled,  # 目的変数 y を指定\n",
    "    cv=10  # データを何分割にして検証するか指定\n",
    ")"
   ]
  },
  {
   "cell_type": "code",
   "execution_count": null,
   "metadata": {},
   "outputs": [],
   "source": [
    "scores"
   ]
  },
  {
   "cell_type": "code",
   "execution_count": null,
   "metadata": {},
   "outputs": [],
   "source": [
    "y_predict_logistic = clf_logistic.predict(X_test)\n",
    "y_predict_proba_logistic = clf_logistic.predict_proba(X_test)\n",
    "\n",
    "estimation_logistic_dict = {\n",
    "    \"accuracy\": accuracy_score(y_test, y_predict_logistic),\n",
    "    \"precision\": precision_score(y_test, y_predict_logistic),\n",
    "    \"recall\": recall_score(y_test, y_predict_logistic),\n",
    "    \"f1\":f1_score(y_test, y_predict_logistic)\n",
    "}\n",
    "\n",
    "estimation_logistic = pd.DataFrame(estimation_logistic_dict, index=['LogisticRegression'])\n",
    "estimation_logistic"
   ]
  },
  {
   "cell_type": "code",
   "execution_count": null,
   "metadata": {},
   "outputs": [],
   "source": [
    "roc_auc_score(y_test, y_predict_proba_logistic[:, 1])"
   ]
  },
  {
   "cell_type": "code",
   "execution_count": null,
   "metadata": {},
   "outputs": [],
   "source": []
  },
  {
   "cell_type": "code",
   "execution_count": null,
   "metadata": {},
   "outputs": [],
   "source": [
    "from imblearn.over_sampling import SMOTE\n",
    "\n",
    "# 正例を10％まであげる\n",
    "smote = SMOTE(ratio = {0:X_train.shape[0], 1:X_train.shape[0]//9}, random_state = 71)\n",
    "\n",
    "# 学習用データに反映\n",
    "X_train_resampled, y_train_resampled = smote.fit_sample(X_train, y_train)\n"
   ]
  },
  {
   "cell_type": "code",
   "execution_count": null,
   "metadata": {},
   "outputs": [],
   "source": [
    "np.unique(y_train_resampled, return_counts=True) [1]/ y_train_resampled.size"
   ]
  },
  {
   "cell_type": "code",
   "execution_count": null,
   "metadata": {},
   "outputs": [],
   "source": []
  }
 ],
 "metadata": {
  "kernelspec": {
   "display_name": "Python 3",
   "language": "python",
   "name": "python3"
  },
  "language_info": {
   "codemirror_mode": {
    "name": "ipython",
    "version": 3
   },
   "file_extension": ".py",
   "mimetype": "text/x-python",
   "name": "python",
   "nbconvert_exporter": "python",
   "pygments_lexer": "ipython3",
   "version": "3.6.8"
  }
 },
 "nbformat": 4,
 "nbformat_minor": 2
}
