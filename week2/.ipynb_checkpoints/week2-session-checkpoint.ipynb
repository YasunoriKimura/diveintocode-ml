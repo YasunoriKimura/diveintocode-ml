{
 "cells": [
  {
   "cell_type": "markdown",
   "metadata": {},
   "source": [
    "## 【問題1】断面図の作成"
   ]
  },
  {
   "cell_type": "code",
   "execution_count": 45,
   "metadata": {},
   "outputs": [],
   "source": [
    "import numpy as np\n",
    "import matplotlib.pyplot as plt\n",
    "\n",
    "\n",
    "np.set_printoptions(suppress=True) # 指数表示の禁止を設定する\n",
    "fuji = np.loadtxt(\"week2_session_mtfuji_data.csv\",delimiter=\",\", skiprows=1)\n"
   ]
  },
  {
   "cell_type": "code",
   "execution_count": 46,
   "metadata": {},
   "outputs": [
    {
     "data": {
      "text/plain": [
       "array([  0.,   1.,   2.,   3.,   4.,   5.,   6.,   7.,   8.,   9.,  10.,\n",
       "        11.,  12.,  13.,  14.,  15.,  16.,  17.,  18.,  19.,  20.,  21.,\n",
       "        22.,  23.,  24.,  25.,  26.,  27.,  28.,  29.,  30.,  31.,  32.,\n",
       "        33.,  34.,  35.,  36.,  37.,  38.,  39.,  40.,  41.,  42.,  43.,\n",
       "        44.,  45.,  46.,  47.,  48.,  49.,  50.,  51.,  52.,  53.,  54.,\n",
       "        55.,  56.,  57.,  58.,  59.,  60.,  61.,  62.,  63.,  64.,  65.,\n",
       "        66.,  67.,  68.,  69.,  70.,  71.,  72.,  73.,  74.,  75.,  76.,\n",
       "        77.,  78.,  79.,  80.,  81.,  82.,  83.,  84.,  85.,  86.,  87.,\n",
       "        88.,  89.,  90.,  91.,  92.,  93.,  94.,  95.,  96.,  97.,  98.,\n",
       "        99., 100., 101., 102., 103., 104., 105., 106., 107., 108., 109.,\n",
       "       110., 111., 112., 113., 114., 115., 116., 117., 118., 119., 120.,\n",
       "       121., 122., 123., 124., 125., 126., 127., 128., 129., 130., 131.,\n",
       "       132., 133., 134., 135., 136., 137., 138., 139., 140., 141., 142.,\n",
       "       143., 144., 145., 146., 147., 148., 149., 150., 151., 152., 153.,\n",
       "       154., 155., 156., 157., 158., 159., 160., 161., 162., 163., 164.,\n",
       "       165., 166., 167., 168., 169., 170., 171., 172., 173., 174., 175.,\n",
       "       176., 177., 178., 179., 180., 181., 182., 183., 184., 185., 186.,\n",
       "       187., 188., 189., 190., 191., 192., 193., 194., 195., 196., 197.,\n",
       "       198., 199., 200., 201., 202., 203., 204., 205., 206., 207., 208.,\n",
       "       209., 210., 211., 212., 213., 214., 215., 216., 217., 218., 219.,\n",
       "       220., 221., 222., 223., 224., 225., 226., 227., 228., 229., 230.,\n",
       "       231., 232., 233., 234., 235., 236., 237., 238., 239., 240., 241.,\n",
       "       242., 243., 244., 245., 246., 247., 248., 249., 250., 251., 252.,\n",
       "       253., 254., 255., 256., 257., 258., 259., 260., 261., 262., 263.,\n",
       "       264., 265., 266., 267., 268., 269., 270., 271., 272., 273., 274.,\n",
       "       275., 276., 277., 278., 279., 280., 281., 282., 283., 284., 285.,\n",
       "       286., 287., 288., 289., 290., 291., 292., 293., 294., 295., 296.,\n",
       "       297., 298., 299.])"
      ]
     },
     "execution_count": 46,
     "metadata": {},
     "output_type": "execute_result"
    }
   ],
   "source": [
    "fuji[:, 0]"
   ]
  },
  {
   "cell_type": "code",
   "execution_count": 49,
   "metadata": {},
   "outputs": [
    {
     "data": {
      "text/plain": [
       "array([   0.  ,    0.  ,    0.  ,    0.  ,    0.  ,    0.  ,    6.62,\n",
       "          7.21,   12.2 ,   54.41,  171.56,  177.84,  228.21,  275.38,\n",
       "        433.76,  371.74,  380.06,  503.4 ,  485.39,  477.82,  580.5 ,\n",
       "        610.92,  654.96,  628.22,  626.64,  572.55,  723.95,  701.94,\n",
       "        879.47,  976.17,  919.16,  817.  ,  743.06,  770.92,  864.06,\n",
       "        826.52,  748.39,  756.11,  724.5 ,  724.5 ,  724.5 ,  724.5 ,\n",
       "        724.5 ,  724.5 ,  724.5 ,  724.5 ,  724.5 ,  724.5 ,  852.18,\n",
       "        851.36,  831.  ,  880.44,  955.14,  849.52,  831.6 ,  790.01,\n",
       "        738.97,  848.83,  738.3 ,  736.48,  672.24,  564.02,  552.23,\n",
       "        497.41,  558.28,  503.02,  462.33,  469.66,  429.49,  454.21,\n",
       "        412.27,  362.29,  355.68,  368.91,  371.04,  371.19,  377.62,\n",
       "        386.64,  390.14,  418.41,  420.6 ,  443.  ,  458.66,  471.82,\n",
       "        488.4 ,  505.1 ,  519.54,  536.54,  553.64,  575.07,  588.99,\n",
       "        602.36,  613.04,  631.71,  660.43,  672.36,  700.15,  725.72,\n",
       "        741.17,  753.68,  772.58,  795.25,  817.62,  858.62,  883.89,\n",
       "        910.5 ,  932.74,  973.32, 1000.24, 1034.34, 1059.69, 1105.8 ,\n",
       "       1166.58, 1219.86, 1239.97, 1292.52, 1360.1 , 1429.75, 1506.66,\n",
       "       1561.94, 1598.36, 1659.43, 1726.5 , 1781.98, 1850.02, 1953.48,\n",
       "       2076.15, 2196.53, 2306.85, 2426.1 , 2563.4 , 2703.1 , 2825.55,\n",
       "       2967.9 , 3087.81, 3266.24, 3434.59, 3600.08, 3679.96, 3664.9 ,\n",
       "       3567.76, 3348.43, 3171.53, 3019.8 , 2864.56, 2713.03, 2566.6 ,\n",
       "       2450.23, 2334.42, 2240.98, 2146.01, 2061.63, 1963.73, 1904.2 ,\n",
       "       1798.99, 1748.11, 1679.25, 1623.73, 1590.97, 1525.57, 1484.72,\n",
       "       1429.03, 1384.07, 1333.51, 1306.46, 1272.98, 1259.24, 1222.48,\n",
       "       1201.31, 1182.32, 1160.85, 1124.83, 1095.73, 1081.07, 1068.05,\n",
       "       1053.28, 1049.33, 1043.91, 1033.52, 1022.1 ,  993.63,  985.66,\n",
       "        970.58,  960.52,  958.44, 1094.28, 1203.92, 1321.2 , 1351.64,\n",
       "       1215.13, 1056.99,  973.61,  900.  ,  900.  ,  900.  , 1020.79,\n",
       "       1126.56, 1155.7 ,  990.05,  895.16,  723.66,  616.85,  556.79,\n",
       "        502.25,  587.23,  620.23,  622.89,  631.41,  479.68,  427.07,\n",
       "        413.4 ,  361.49,  505.42,  592.32,  526.51,  405.96,  391.72,\n",
       "        354.39,  487.5 ,  582.16,  595.53,  563.7 ,  425.04,  339.21,\n",
       "        312.76,  332.88,  270.33,  332.39,  440.61,  514.97,  422.18,\n",
       "        344.44,  423.72,  363.25,  278.95,  262.  ,  301.  ,  409.72,\n",
       "        437.7 ,  491.04,  501.97,  430.96,  462.99,  456.1 ,  502.93,\n",
       "        542.  ,  749.23,  855.15,  821.32,  915.92,  901.57, 1079.27,\n",
       "       1161.14, 1191.05, 1144.26,  986.58,  929.33,  909.89,  972.71,\n",
       "       1141.8 , 1243.66, 1355.83, 1530.88, 1599.43, 1733.89, 1755.81,\n",
       "       1878.56, 1717.62, 1745.04, 1776.91, 1616.81, 1680.01, 1644.14,\n",
       "       1635.28, 1566.79, 1438.39, 1390.92, 1282.63, 1348.7 , 1376.17,\n",
       "       1309.46, 1337.45, 1199.98,  916.3 , 1037.93, 1154.9 , 1372.58,\n",
       "       1510.22, 1681.01, 1732.79, 1918.68, 2102.67, 2213.03, 2158.71,\n",
       "       2084.51, 1918.24, 1944.63, 1973.99, 1841.36, 1725.8 ])"
      ]
     },
     "execution_count": 49,
     "metadata": {},
     "output_type": "execute_result"
    }
   ],
   "source": [
    "fuji[:, 3]"
   ]
  },
  {
   "cell_type": "code",
   "execution_count": 87,
   "metadata": {},
   "outputs": [
    {
     "data": {
      "text/plain": [
       "<matplotlib.quiver.Quiver at 0x116c48eb8>"
      ]
     },
     "execution_count": 87,
     "metadata": {},
     "output_type": "execute_result"
    },
    {
     "data": {
      "image/png": "[encoded data removed]",
      "text/plain": [
       "<Figure size 432x288 with 1 Axes>"
      ]
     },
     "metadata": {
      "needs_background": "light"
     },
     "output_type": "display_data"
    }
   ],
   "source": [
    "# 断面図を作成\n",
    "plt.plot(fuji[:, 0], fuji[:, 3])\n",
    "plt.plot(fuji[:, 0][137], fuji[:, 3][137], marker=\"o\")\n",
    "plt.quiver(fuji[:, 0][137], fuji[:, 3][137], fuji[:, 0][136]-fuji[:, 0][137], fuji[:, 3][136]-fuji[:, 3][137])"
   ]
  },
  {
   "cell_type": "markdown",
   "metadata": {},
   "source": [
    "## 【問題2】勾配の計算の関数"
   ]
  },
  {
   "cell_type": "markdown",
   "metadata": {},
   "source": [
    "input データ、今いる地点x\n",
    "\n",
    "def 引数x\n",
    "    x-1\n",
    "    データの探索：、xの時のy、x-1の時のy-1\n",
    "    return　yの変化量/x変化量\n",
    "\n",
    "output　勾配\n"
   ]
  },
  {
   "cell_type": "code",
   "execution_count": 51,
   "metadata": {},
   "outputs": [],
   "source": [
    "def calculate_gradient(current_point):\n",
    "    \"\"\"\n",
    "    \n",
    "    Palameters\n",
    "    ----------\n",
    "    current_point:int　現地点x\n",
    "    current_elevation:int　現地点xでの標高\n",
    "    next_point:int　次点x-1\n",
    "    next_elevation:int 次点x-1での標高\n",
    "    \n",
    "    Return\n",
    "    ----------\n",
    "    勾配\n",
    "    \n",
    "    \"\"\"\n",
    "    current_elevation = fuji[current_point-1,3]\n",
    "    next_point = current_point - 1\n",
    "    next_elevation = fuji[next_point-1, 3]\n",
    "    return (next_elevation - current_elevation) / (next_point - current_point)"
   ]
  },
  {
   "cell_type": "code",
   "execution_count": 52,
   "metadata": {},
   "outputs": [
    {
     "data": {
      "text/plain": [
       "178.42999999999984"
      ]
     },
     "execution_count": 52,
     "metadata": {},
     "output_type": "execute_result"
    }
   ],
   "source": [
    "calculate_gradient(136)"
   ]
  },
  {
   "cell_type": "markdown",
   "metadata": {},
   "source": [
    "## 【問題3】勾配降下法の関数を作成"
   ]
  },
  {
   "cell_type": "markdown",
   "metadata": {},
   "source": [
    "「移動すべき地点 = 今いる地点 - α ×今いる地点の勾配」  \n",
    "\n",
    "input 現地点x、パラメータα\n",
    "\n",
    "def 引数x、パラメータα  \n",
    "    リストを用意  \n",
    "    移動すべき地点 = x -α×今いる地点の勾配 で更新。(初期値は更新しない) \n",
    "    移動すべき地点を四捨五入  \n",
    "    移動すべき地点から標高を算出\n",
    "    標高をリストに追加\n",
    "    return リストを抽出\n",
    "output リスト"
   ]
  },
  {
   "cell_type": "code",
   "execution_count": 128,
   "metadata": {},
   "outputs": [],
   "source": [
    "from decimal import Decimal, ROUND_HALF_UP, ROUND_HALF_EVEN\n",
    "import math\n",
    "\n",
    "def calculate_moving_point(current_point, alpha=0.1):\n",
    "    elevation_list = []\n",
    "    \n",
    "    for i in range(100):\n",
    "        if i == 0:\n",
    "            current_elevation = fuji[current_point, 3]\n",
    "        else:\n",
    "            # 現時点を更新する。\n",
    "            current_point -= alpha*calculate_gradient(current_point)\n",
    "            \n",
    "            #  移動すべき点（current_point）を四捨五入\n",
    "            current_point = int(Decimal(str(current_point)).quantize(Decimal('0'), rounding=ROUND_HALF_UP))\n",
    "            \n",
    "            # 移動すべき点から標高を算出\n",
    "            current_elevation = fuji[current_point, 3]\n",
    "        \n",
    "        # リストに追加\n",
    "        elevation_list.append(current_elevation)\n",
    "    \n",
    "    return elevation_list"
   ]
  },
  {
   "cell_type": "code",
   "execution_count": 129,
   "metadata": {},
   "outputs": [
    {
     "data": {
      "text/plain": [
       "[<matplotlib.lines.Line2D at 0x117297cc0>]"
      ]
     },
     "execution_count": 129,
     "metadata": {},
     "output_type": "execute_result"
    },
    {
     "data": {
      "image/png": "[encoded data removed]",
      "text/plain": [
       "<Figure size 432x288 with 1 Axes>"
      ]
     },
     "metadata": {
      "needs_background": "light"
     },
     "output_type": "display_data"
    }
   ],
   "source": [
    "plt.plot(calculate_moving_point(136, 0.3))"
   ]
  },
  {
   "cell_type": "markdown",
   "metadata": {},
   "source": [
    "## 【問題4】初期値の変更"
   ]
  },
  {
   "cell_type": "code",
   "execution_count": 130,
   "metadata": {},
   "outputs": [
    {
     "data": {
      "text/plain": [
       "[<matplotlib.lines.Line2D at 0x11738bf28>]"
      ]
     },
     "execution_count": 130,
     "metadata": {},
     "output_type": "execute_result"
    },
    {
     "data": {
      "image/png": "[encoded data removed]",
      "text/plain": [
       "<Figure size 432x288 with 1 Axes>"
      ]
     },
     "metadata": {
      "needs_background": "light"
     },
     "output_type": "display_data"
    }
   ],
   "source": [
    "plt.plot(calculate_moving_point(140, 0.3))"
   ]
  }
 ],
 "metadata": {
  "kernelspec": {
   "display_name": "Python 3",
   "language": "python",
   "name": "python3"
  },
  "language_info": {
   "codemirror_mode": {
    "name": "ipython",
    "version": 3
   },
   "file_extension": ".py",
   "mimetype": "text/x-python",
   "name": "python",
   "nbconvert_exporter": "python",
   "pygments_lexer": "ipython3",
   "version": "3.6.6"
  }
 },
 "nbformat": 4,
 "nbformat_minor": 2
}
