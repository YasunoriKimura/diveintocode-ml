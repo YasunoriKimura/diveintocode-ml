{
 "cells": [
  {
   "cell_type": "markdown",
   "metadata": {},
   "source": [
    "## 【課題】統計基礎用語の説明\n",
    "\n",
    "標準偏差について、分散との違いや関係性、どんな時に使う指標なのかをお答えください。\n",
    "⇨標準偏差はデータの散らばりの度合いを表す値。データの散らばりが大きいと標準偏差も大きくなり、小さいと標準偏差も0に近づく。\n",
    "　分散値の平方を取ることで求めることができる。\n",
    "\n",
    "　分散は、平均を中心としてデータがどれくらいばらついているかを見る指標。\n",
    "　プラスマイナスの影響が出ないように計算上２乗している。\n",
    "\n",
    "共分散行列について述べてください。\n",
    "⇨対角成分には分散が並び，非対角成分には共分散が並ぶ行列。\n",
    "\n",
    "1次元の正規分布と多次元の正規分布について述べてください。特にどういう時に使うのかについてお答えください。\n",
    "⇨正規分布はグラフで表すと左右対称な曲線になり、特徴としては\n",
    "　平均値と最頻値と中央値が一致する。\n",
    "　平均値を中心にして左右対称である。\n",
    "　分散が大きくなると、曲線の山は低くなり、左右に広がって平らになる。分散が小さくなると、山は高くなり、よりとがった形になる。\n",
    "　"
   ]
  },
  {
   "cell_type": "markdown",
   "metadata": {},
   "source": [
    "## 【課題】データ点の作成\n",
    "\n",
    "## 【課題】データ点へのラベル付け\n",
    "\n",
    "## 【課題】正しくラベル付けされているか見てみる"
   ]
  },
  {
   "cell_type": "code",
   "execution_count": 92,
   "metadata": {},
   "outputs": [
    {
     "name": "stdout",
     "output_type": "stream",
     "text": [
      "[[-5.01696656 -0.24233463  0.        ]\n",
      " [-4.66877513 -2.31493179  0.        ]\n",
      " [-4.08996101 -0.54875175  0.        ]\n",
      " ...\n",
      " [-1.21995139  1.35954537  0.        ]\n",
      " [-3.82739544 -0.17696579  0.        ]\n",
      " [-2.28381237  1.47653464  0.        ]]\n",
      "[[ 1.22159167 -2.04610798  1.        ]\n",
      " [ 1.81114995 -0.94992726  1.        ]\n",
      " [-0.67417577 -3.46972313  1.        ]\n",
      " ...\n",
      " [ 0.57977551 -2.46659677  1.        ]\n",
      " [ 1.17799589 -1.81255451  1.        ]\n",
      " [ 0.53495728 -2.90488493  1.        ]]\n"
     ]
    },
    {
     "data": {
      "image/png": "[encoded data removed]",
      "text/plain": [
       "<Figure size 432x288 with 1 Axes>"
      ]
     },
     "metadata": {
      "needs_background": "light"
     },
     "output_type": "display_data"
    }
   ],
   "source": [
    "import numpy as np\n",
    "import matplotlib.pyplot as plt\n",
    "%matplotlib inline\n",
    "\n",
    "\n",
    "mean1 = [-3, 0]\n",
    "mean2 = [0, -3]\n",
    "cov = [[1.0, 0.8],\n",
    "       [0.8, 1.0]]\n",
    "size = 500\n",
    "\n",
    "# 平均が(−3, 0)と(０, −3)のデータ\n",
    "data1 = np.random.multivariate_normal(mean1, cov, size)\n",
    "data2 = np.random.multivariate_normal(mean2, cov, size)\n",
    "\n",
    "# data1とdata2を結合\n",
    "combined_sample = np.concatenate([data1, data2], axis=0)\n",
    "\n",
    "# 結合したサンプリングにラベルをつける。\n",
    "a = np.insert(combined_sample[0:500], 2, 0, axis=1)\n",
    "b = np.insert(combined_sample[501:1000], 2, 1, axis=1)\n",
    "print(a)\n",
    "print(b)\n",
    "\n",
    "plt.scatter(data1[:,0], data1[:,1], c=\"y\", s=50, marker='o')\n",
    "plt.scatter(data2[:,0], data2[:,1], c=\"m\", s=50, marker='o')\n",
    "plt.show()\n"
   ]
  },
  {
   "cell_type": "code",
   "execution_count": null,
   "metadata": {},
   "outputs": [],
   "source": []
  },
  {
   "cell_type": "code",
   "execution_count": null,
   "metadata": {},
   "outputs": [],
   "source": []
  }
 ],
 "metadata": {
  "kernelspec": {
   "display_name": "Python 3",
   "language": "python",
   "name": "python3"
  },
  "language_info": {
   "codemirror_mode": {
    "name": "ipython",
    "version": 3
   },
   "file_extension": ".py",
   "mimetype": "text/x-python",
   "name": "python",
   "nbconvert_exporter": "python",
   "pygments_lexer": "ipython3",
   "version": "3.6.6"
  }
 },
 "nbformat": 4,
 "nbformat_minor": 2
}
