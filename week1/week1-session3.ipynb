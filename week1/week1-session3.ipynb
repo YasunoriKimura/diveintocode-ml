{
 "cells": [
  {
   "cell_type": "markdown",
   "metadata": {},
   "source": [
    "# 栗まんじゅう問題"
   ]
  },
  {
   "cell_type": "markdown",
   "metadata": {},
   "source": [
    "太陽系が栗まんじゅうで覆われるのは何分後か。\n",
    "5分後　２個\n",
    "10分後　４個\n",
    "15分後　８個\n",
    "\n",
    "栗まんじゅうの体積\n",
    "6 × 4 × 3 /1000000\n",
    "\n",
    "太陽系の大きさ\n",
    "4*π*(4504400000km)**3/3"
   ]
  },
  {
   "cell_type": "code",
   "execution_count": 21,
   "metadata": {},
   "outputs": [
    {
     "name": "stdout",
     "output_type": "stream",
     "text": [
      "覆われるのは705分後です\n"
     ]
    }
   ],
   "source": [
    "import math\n",
    "\n",
    "chestnut_cake_volume = 6 * 4 * 3 / 1000000\n",
    "solar_system_volume = (4 * math.pi * (4504400000*1000)**3) / 3\n",
    "\n",
    "\n",
    "def covering_time(covering_thing, covered_thing):\n",
    "    \n",
    "    count = 0\n",
    "\n",
    "    while covered_thing >= covering_thing:\n",
    "        covering_thing *= 2\n",
    "        time = 5 * count\n",
    "        count += 1\n",
    "        \n",
    "    return '覆われるのは{}分後です'.format(time)\n",
    "\n",
    "print(covering_time(chestnut_cake_volume, solar_system_volume))"
   ]
  },
  {
   "cell_type": "markdown",
   "metadata": {},
   "source": [
    "## 東京ドームが覆われるまで時間\n",
    "\n",
    "東京ドームの広さ　1240000㎥"
   ]
  },
  {
   "cell_type": "code",
   "execution_count": 22,
   "metadata": {},
   "outputs": [
    {
     "name": "stdout",
     "output_type": "stream",
     "text": [
      "覆われるのは170分後です\n"
     ]
    }
   ],
   "source": [
    "tokyo_dome = 1240000\n",
    "\n",
    "print(covering_time(chestnut_cake_volume, tokyo_dome))"
   ]
  },
  {
   "cell_type": "code",
   "execution_count": null,
   "metadata": {},
   "outputs": [],
   "source": []
  }
 ],
 "metadata": {
  "kernelspec": {
   "display_name": "Python 3",
   "language": "python",
   "name": "python3"
  },
  "language_info": {
   "codemirror_mode": {
    "name": "ipython",
    "version": 3
   },
   "file_extension": ".py",
   "mimetype": "text/x-python",
   "name": "python",
   "nbconvert_exporter": "python",
   "pygments_lexer": "ipython3",
   "version": "3.6.6"
  }
 },
 "nbformat": 4,
 "nbformat_minor": 2
}
