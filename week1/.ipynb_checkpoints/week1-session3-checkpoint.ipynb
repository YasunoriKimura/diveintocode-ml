{
 "cells": [
  {
   "cell_type": "markdown",
   "metadata": {},
   "source": [
    "# 栗まんじゅう問題"
   ]
  },
  {
   "cell_type": "markdown",
   "metadata": {},
   "source": [
    "太陽系が栗まんじゅうで覆われるのは何分後か。\n",
    "5分後　２個\n",
    "10分後　４個\n",
    "15分後　８個\n",
    "\n",
    "栗まんじゅうの体積\n",
    "6 × 4 × 3 /1000000\n",
    "\n",
    "太陽系の大きさ\n",
    "4*π*(4504400000km)**3/3"
   ]
  },
  {
   "cell_type": "code",
   "execution_count": null,
   "metadata": {},
   "outputs": [],
   "source": [
    "import math\n",
    "\n",
    "chestnut_cake_volume = 6 * 4 * 3 / 1000000\n",
    "solar_system_volume = (4 * math.pi * (4504400000*1000)**3) / 3\n",
    "print(chestnut_cake_volume)\n",
    "print(solar_system_volume)\n",
    "\n",
    "\n",
    "def covering_time():\n",
    "    \"\"\"\n",
    "    栗饅頭が何かを覆うまでの時間を求める関数\n",
    "    \n",
    "    Parameters\n",
    "    ----------\n",
    "    \n",
    "    Returns\n",
    "    ----------\n",
    "    time:\n",
    "    \n",
    "    \"\"\"\n",
    "    \n",
    "    while chestnut_cake_volume <= solar_system_volume:\n",
    "        count = 0\n",
    "        print('koko')\n",
    "        count += 1\n",
    "        chestnut_cake_volume *=  count**2 \n",
    "        time = count * 5\n",
    "        return time\n",
    "\n",
    "covering_time()"
   ]
  },
  {
   "cell_type": "code",
   "execution_count": null,
   "metadata": {},
   "outputs": [],
   "source": []
  }
 ],
 "metadata": {
  "kernelspec": {
   "display_name": "Python 3",
   "language": "python",
   "name": "python3"
  },
  "language_info": {
   "codemirror_mode": {
    "name": "ipython",
    "version": 3
   },
   "file_extension": ".py",
   "mimetype": "text/x-python",
   "name": "python",
   "nbconvert_exporter": "python",
   "pygments_lexer": "ipython3",
   "version": "3.6.6"
  }
 },
 "nbformat": 4,
 "nbformat_minor": 2
}
