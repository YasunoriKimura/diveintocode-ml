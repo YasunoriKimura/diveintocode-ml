{
 "cells": [
  {
   "cell_type": "markdown",
   "metadata": {},
   "source": [
    "# Sprint11課題 深層学習スクラッチディープニューラルネットワーク"
   ]
  },
  {
   "cell_type": "markdown",
   "metadata": {},
   "source": [
    "## 2.スクラッチによる実装"
   ]
  },
  {
   "cell_type": "markdown",
   "metadata": {},
   "source": [
    "### 【問題1】全結合層のクラス化"
   ]
  },
  {
   "cell_type": "code",
   "execution_count": 1,
   "metadata": {},
   "outputs": [],
   "source": [
    "import numpy as np\n",
    "\n",
    "class FC:\n",
    "    \"\"\"\n",
    "    ノード数n_nodes1からn_nodes2への全結合層\n",
    "    Parameters\n",
    "    ----------\n",
    "    n_nodes1 : int\n",
    "      前の層のノード数\n",
    "    n_nodes2 : int\n",
    "      後の層のノード数\n",
    "    initializer : 初期化方法のインスタンス\n",
    "    optimizer : 最適化手法のインスタンス\n",
    "    \"\"\"\n",
    "    def __init__(self, n_nodes1, n_nodes2, initializer, optimizer):\n",
    "        # 初期化\n",
    "        # initializerのメソッドを使い、self.Wとself.Bを初期化する\n",
    "        self.optimizer = optimizer\n",
    "        self.W = initializer.W(n_nodes1, n_nodes2)\n",
    "        self.B = initializer.B(n_nodes2)\n",
    "\n",
    "    def forward(self, Z):\n",
    "        \"\"\"\n",
    "        フォワード\n",
    "        Parameters\n",
    "        ----------\n",
    "        X : 次の形のndarray, shape (batch_size, n_nodes1)\n",
    "            入力\n",
    "        Returns\n",
    "        ----------\n",
    "        A : 次の形のndarray, shape (batch_size, n_nodes2)\n",
    "            出力\n",
    "        \"\"\"        \n",
    "        self.forward_Z = Z.copy()\n",
    "        A = np.dot(Z, self.W) + self.B\n",
    "        return A\n",
    "\n",
    "    def backward(self, dA):\n",
    "        \"\"\"\n",
    "        バックワード\n",
    "        Parameters\n",
    "        ----------\n",
    "        dA : 次の形のndarray, shape (batch_size, n_nodes2)\n",
    "            後ろから流れてきた勾配\n",
    "        Returns\n",
    "        ----------\n",
    "        dZ : 次の形のndarray, shape (batch_size, n_nodes1)\n",
    "            前に流す勾配\n",
    "        \"\"\"\n",
    "        self.dB = dA\n",
    "        self.dW = np.dot(self.forward_Z.T, dA)\n",
    "        dZ = np.dot(dA, self.W.T)\n",
    "        # 更新\n",
    "        self = self.optimizer.update(self)\n",
    "        return dZ\n"
   ]
  },
  {
   "cell_type": "markdown",
   "metadata": {},
   "source": [
    "### 【問題2】初期化方法のクラス化"
   ]
  },
  {
   "cell_type": "code",
   "execution_count": 2,
   "metadata": {},
   "outputs": [],
   "source": [
    "class SimpleInitializer:\n",
    "    \"\"\"\n",
    "    ガウス分布によるシンプルな初期化\n",
    "    Parameters\n",
    "    ----------\n",
    "    sigma : float\n",
    "      ガウス分布の標準偏差\n",
    "    \"\"\"\n",
    "    def __init__(self, sigma):\n",
    "        self.sigma = sigma\n",
    "\n",
    "    def W(self, n_nodes1, n_nodes2):\n",
    "        \"\"\"\n",
    "        重みの初期化\n",
    "        Parameters\n",
    "        ----------\n",
    "        n_nodes1 : int\n",
    "          前の層のノード数\n",
    "        n_nodes2 : int\n",
    "          後の層のノード数\n",
    "\n",
    "        Returns\n",
    "        ----------\n",
    "        W :\n",
    "        \"\"\"\n",
    "        W = self.sigma * np.random.randn(n_nodes1, n_nodes2)\n",
    "        return W\n",
    "    \n",
    "    def B(self, n_nodes2):\n",
    "        \"\"\"\n",
    "        バイアスの初期化\n",
    "        Parameters\n",
    "        ----------\n",
    "        n_nodes2 : int\n",
    "          後の層のノード数\n",
    "\n",
    "        Returns\n",
    "        ----------\n",
    "        B :\n",
    "        \"\"\"\n",
    "        B = self.sigma * np.random.randn(n_nodes2)\n",
    "        return B"
   ]
  },
  {
   "cell_type": "markdown",
   "metadata": {},
   "source": [
    "### 【問題3】最適化手法のクラス化"
   ]
  },
  {
   "cell_type": "code",
   "execution_count": 3,
   "metadata": {},
   "outputs": [],
   "source": [
    "class SGD:\n",
    "    \"\"\"\n",
    "    確率的勾配降下法\n",
    "    Parameters\n",
    "    ----------\n",
    "    lr : 学習率\n",
    "    \"\"\"\n",
    "    def __init__(self, alpha):\n",
    "        self.alpha = alpha\n",
    "    def update(self, layer):\n",
    "        \"\"\"\n",
    "        ある層の重みやバイアスの更新\n",
    "        Parameters\n",
    "        ----------\n",
    "        layer : 更新前の層のインスタンス\n",
    "\n",
    "        Returns\n",
    "        ----------\n",
    "        layer : 更新後の層のインスタンス\n",
    "        \"\"\"\n",
    "        layer.W -= self.alpha * layer.dW\n",
    "        layer.B -= self.alpha * layer.dB.mean(axis=0)\n",
    "        return layer"
   ]
  },
  {
   "cell_type": "markdown",
   "metadata": {},
   "source": [
    "### 【問題4】活性化関数のクラス化"
   ]
  },
  {
   "cell_type": "code",
   "execution_count": 4,
   "metadata": {},
   "outputs": [],
   "source": [
    "class Tanh:\n",
    "    \"\"\"\n",
    "    活性化関数 Tanh\n",
    "    \"\"\"\n",
    "    def __init__(self):\n",
    "        self.forward_A = None\n",
    "    \n",
    "    def forward(self, A):\n",
    "        self.forward_A = A\n",
    "        return np.tanh(A)\n",
    "    \n",
    "    def backward(self, dZ):\n",
    "        return dZ * (1-np.tanh(self.forward_A)**2)"
   ]
  },
  {
   "cell_type": "code",
   "execution_count": 5,
   "metadata": {},
   "outputs": [],
   "source": [
    "class Softmax():\n",
    "    \"\"\"\n",
    "    ステップ関数　Softmap\n",
    "    \"\"\"\n",
    "    def __init__(self):\n",
    "        self.forward_A = None\n",
    "    \n",
    "    def forward(self, A):\n",
    "        self.forward_A = A\n",
    "        if A.ndim == 2:\n",
    "            A = A.T\n",
    "            A = A - np.max(A, axis=0)\n",
    "            self.Z = np.exp(A) / np.sum(np.exp(A), axis=0)\n",
    "            return self.Z.T\n",
    "\n",
    "        A = A - np.max(A)\n",
    "        Z = np.exp(A) / np.sum(np.exp(A)) \n",
    "        self.Z = Z\n",
    "        return self.Z\n",
    "\n",
    "    \n",
    "    def backward(self,y):\n",
    "        return self.Z.T - y\n"
   ]
  },
  {
   "cell_type": "markdown",
   "metadata": {},
   "source": [
    "### 【問題5】ReLUクラスの作成"
   ]
  },
  {
   "cell_type": "code",
   "execution_count": 6,
   "metadata": {},
   "outputs": [],
   "source": [
    "class ReLU:\n",
    "    \"\"\"\n",
    "    活性化関数 ReLU\n",
    "    \"\"\"\n",
    "    def __init__(self):\n",
    "        self.forward_A = None\n",
    "    \n",
    "    def forward(self, A):\n",
    "        self.forward_A = A\n",
    "        return np.maximum(A, 0)\n",
    "    \n",
    "    def backward(self, dZ):\n",
    "        return dZ * np.where(self.forward_A>0, 1, 0)"
   ]
  },
  {
   "cell_type": "markdown",
   "metadata": {},
   "source": [
    "### 【問題6】重みの初期値"
   ]
  },
  {
   "cell_type": "code",
   "execution_count": 7,
   "metadata": {},
   "outputs": [],
   "source": [
    "class XavierInitializer:\n",
    "    \"\"\"\n",
    "    Xavierによる初期化\n",
    "    シグモイド関数やハイパボリックタンジェント関数の\n",
    "    ときはXavierの初期値が使われる\n",
    "    \"\"\"\n",
    "    def __init__(self, sigma):\n",
    "        self.sigma = sigma\n",
    "\n",
    "    def W(self, n_nodes1, n_nodes2):\n",
    "        \"\"\"\n",
    "        重みの初期化\n",
    "        Parameters\n",
    "        ----------\n",
    "        n_nodes1 : int\n",
    "          前の層のノード数\n",
    "        n_nodes2 : int\n",
    "          後の層のノード数\n",
    "\n",
    "        Returns\n",
    "        ----------\n",
    "        W :\n",
    "        \"\"\"\n",
    "        self.sigma = 1 / np.sqrt(n_nodes1)\n",
    "        W = self.sigma * np.random.randn(n_nodes1, n_nodes2)\n",
    "        return W\n",
    "    \n",
    "    def B(self, n_nodes2):\n",
    "        \"\"\"\n",
    "        バイアスの初期化\n",
    "        Parameters\n",
    "        ----------\n",
    "        n_nodes2 : int\n",
    "          後の層のノード数\n",
    "\n",
    "        Returns\n",
    "        ----------\n",
    "        B :\n",
    "        \"\"\"\n",
    "        B = self.sigma * np.random.randn(n_nodes2)\n",
    "        return B"
   ]
  },
  {
   "cell_type": "code",
   "execution_count": 8,
   "metadata": {},
   "outputs": [],
   "source": [
    "class HeInitializer:\n",
    "    \"\"\"\n",
    "    Heによる初期化\n",
    "    ReLUのときはHeの初期値が使われる\n",
    "    \"\"\"\n",
    "    def __init__(self, sigma):\n",
    "        self.sigma = sigma\n",
    "\n",
    "    def W(self, n_nodes1, n_nodes2):\n",
    "        \"\"\"\n",
    "        重みの初期化\n",
    "        Parameters\n",
    "        ----------\n",
    "        n_nodes1 : int\n",
    "          前の層のノード数\n",
    "        n_nodes2 : int\n",
    "          後の層のノード数\n",
    "\n",
    "        Returns\n",
    "        ----------\n",
    "        W :\n",
    "        \"\"\"\n",
    "        self.sigma = np.sqrt(2/n_nodes1)\n",
    "        W = self.sigma * np.random.randn(n_nodes1, n_nodes2)\n",
    "        return W\n",
    "    \n",
    "    def B(self, n_nodes2):\n",
    "        \"\"\"\n",
    "        バイアスの初期化\n",
    "        Parameters\n",
    "        ----------\n",
    "        n_nodes2 : int\n",
    "          後の層のノード数\n",
    "\n",
    "        Returns\n",
    "        ----------\n",
    "        B :\n",
    "        \"\"\"\n",
    "        B = self.sigma * np.random.randn(n_nodes2)\n",
    "        return B"
   ]
  },
  {
   "cell_type": "markdown",
   "metadata": {},
   "source": [
    "### 【問題7】最適化手法"
   ]
  },
  {
   "cell_type": "code",
   "execution_count": 9,
   "metadata": {},
   "outputs": [],
   "source": [
    "class AdaGrad:\n",
    "    \"\"\"\n",
    "    AdaGradによる最適化\n",
    "    Parameters\n",
    "    ----------\n",
    "    lr : 学習率\n",
    "    \"\"\"\n",
    "    def __init__(self, alpha=0.01):\n",
    "        self.alpha = alpha\n",
    "        self.hW = 0\n",
    "        self.hB = 0\n",
    "    def update(self, layer):\n",
    "        \"\"\"\n",
    "        ある層の重みやバイアスの更新\n",
    "        Parameters\n",
    "        ----------\n",
    "        layer : 更新前の層のインスタンス\n",
    "\n",
    "        Returns\n",
    "        ----------\n",
    "        layer : 更新後の層のインスタンス\n",
    "        \"\"\"\n",
    "        print('layer.dw', layer.dW.shape)\n",
    "        self.hW += (layer.dW)**2\n",
    "        self.hB += (layer.dB)**2\n",
    "        layer.W -= self.alpha * (1/np.sqrt(self.hW +1e-7)) * layer.dW #0除算を防ぐ為、+1e-7を追加\n",
    "        layer.B -= self.alpha * (1/np.sqrt(self.hB.mean(axis=0)+1e-7)) * layer.dB.mean(axis=0) #0除算を防ぐ為、+1e-7を追加\n",
    "        return layer"
   ]
  },
  {
   "cell_type": "markdown",
   "metadata": {},
   "source": [
    "バッチ作成"
   ]
  },
  {
   "cell_type": "code",
   "execution_count": 10,
   "metadata": {},
   "outputs": [],
   "source": [
    "class GetMiniBatch:\n",
    "    \"\"\"\n",
    "    ミニバッチを取得するイテレータ\n",
    "\n",
    "    Parameters\n",
    "    ----------\n",
    "    X : 次の形のndarray, shape (n_samples, n_features)\n",
    "      学習データ\n",
    "    y : 次の形のndarray, shape (n_samples, 1)\n",
    "      正解値\n",
    "    batch_size : int\n",
    "      バッチサイズ\n",
    "    seed : int\n",
    "      NumPyの乱数のシード\n",
    "    \"\"\"\n",
    "    def __init__(self, X, y, batch_size = 10, seed=0):\n",
    "        self.batch_size = batch_size\n",
    "        np.random.seed(seed)\n",
    "        shuffle_index = np.random.permutation(np.arange(X.shape[0]))\n",
    "        self.X = X[shuffle_index]\n",
    "        self.y = y[shuffle_index]\n",
    "        self._stop = np.ceil(X.shape[0]/self.batch_size).astype(np.int)\n",
    "\n",
    "    def __len__(self):\n",
    "        return self._stop\n",
    "\n",
    "    def __getitem__(self,item):\n",
    "        p0 = item*self.batch_size\n",
    "        p1 = item*self.batch_size + self.batch_size\n",
    "        return self.X[p0:p1], self.y[p0:p1]        \n",
    "\n",
    "    def __iter__(self):\n",
    "        self._counter = 0\n",
    "        return self\n",
    "\n",
    "    def __next__(self):\n",
    "        if self._counter >= self._stop:\n",
    "            raise StopIteration()\n",
    "        p0 = self._counter*self.batch_size\n",
    "        p1 = self._counter*self.batch_size + self.batch_size\n",
    "        self._counter += 1\n",
    "        return self.X[p0:p1], self.y[p0:p1]"
   ]
  },
  {
   "cell_type": "code",
   "execution_count": 11,
   "metadata": {},
   "outputs": [
    {
     "name": "stderr",
     "output_type": "stream",
     "text": [
      "Using TensorFlow backend.\n"
     ]
    },
    {
     "name": "stdout",
     "output_type": "stream",
     "text": [
      "(60000,)\n",
      "(60000, 10)\n",
      "float64\n",
      "(48000, 784)\n",
      "(12000, 784)\n"
     ]
    }
   ],
   "source": [
    "\"\"\"\n",
    "使用するデータセットを用意\n",
    "\"\"\"\n",
    "from keras.datasets import mnist\n",
    "from sklearn.preprocessing import OneHotEncoder\n",
    "from sklearn.model_selection import train_test_split\n",
    "\n",
    "(X_train, y_train), (X_test, y_test) = mnist.load_data()\n",
    "X_train = X_train.reshape(-1, 784)\n",
    "X_test = X_test.reshape(-1, 784)\n",
    "\n",
    "X_train = X_train.astype(np.float)\n",
    "X_test = X_test.astype(np.float)\n",
    "X_train /= 255\n",
    "X_test /= 255\n",
    "\n",
    "enc = OneHotEncoder(handle_unknown='ignore', sparse=False)\n",
    "y_train_one_hot = enc.fit_transform(y_train[:, np.newaxis])\n",
    "y_test_one_hot = enc.transform(y_test[:, np.newaxis])\n",
    "print(y_train.shape) # (60000,)\n",
    "print(y_train_one_hot.shape) # (60000, 10)\n",
    "print(y_train_one_hot.dtype) # float64\n",
    "\n",
    "X_train, X_val, y_train, y_val = train_test_split(X_train, y_train_one_hot, test_size=0.2)\n",
    "print(X_train.shape) # (48000, 784)\n",
    "print(X_val.shape) # (12000, 784)"
   ]
  },
  {
   "cell_type": "code",
   "execution_count": 12,
   "metadata": {},
   "outputs": [],
   "source": [
    "import numpy as np\n",
    "import matplotlib.pyplot as plt\n",
    "\n",
    "class ScratchDeepNeuralNetrowkClassifier:\n",
    "    def __init__(self, n_epocs, batch_size, n_nodes1, n_nodes2, alpha=0.0001, sigma=0.01, n_output=10):\n",
    "        self.n_epocs = n_epocs\n",
    "        self.alpha = alpha\n",
    "        self.sigma = sigma\n",
    "        self.batch_size = batch_size\n",
    "        self.n_nodes1 = n_nodes1\n",
    "        self.n_nodes2 = n_nodes2\n",
    "        self.n_output = n_output\n",
    "        self.loss = np.zeros(n_epocs)\n",
    "        self.val_loss = np.zeros(n_epocs)\n",
    "    \n",
    "    def fit(self, X, y, X_val=None, y_val=None):\n",
    "        self.n_features =X.shape[1]\n",
    "        train_mini_batch = GetMiniBatch(X, y, batch_size=self.batch_size)\n",
    "        test_mini_batch = GetMiniBatch(X_val, y_val, batch_size=self.batch_size)\n",
    "        optimizer = SGD(self.alpha)\n",
    "        self.FC1 = FC(self.n_features, self.n_nodes1, SimpleInitializer(self.sigma), optimizer)\n",
    "        self.activation1 = Tanh()\n",
    "        self.FC2 = FC(self.n_nodes1, self.n_nodes2, SimpleInitializer(self.sigma), optimizer)\n",
    "        self.activation2 = Tanh()\n",
    "        self.FC3 = FC(self.n_nodes2, self.n_output, SimpleInitializer(self.sigma), optimizer)\n",
    "        self.activation3 = Softmax()\n",
    "        for epoch in range(self.n_epocs):\n",
    "            for i, (mini_X, mini_y) in enumerate(train_mini_batch):\n",
    "                X = mini_X\n",
    "                y = mini_y\n",
    "                A1 = self.FC1.forward(X)\n",
    "                Z1 = self.activation1.forward(A1)\n",
    "                A2 = self.FC2.forward(Z1)\n",
    "                Z2 = self.activation2.forward(A2)\n",
    "                A3 = self.FC3.forward(Z2)\n",
    "                Z3 = self.activation3.forward(A3)\n",
    "\n",
    "                dA3 = self.activation3.backward(y) #y^ - y\n",
    "                dZ2 = self.FC3.backward(dA3)\n",
    "                dA2 = self.activation2.backward(dZ2)\n",
    "                dZ1 = self.FC2.backward(dA2)\n",
    "                dA1 = self.activation1.backward(dZ1)\n",
    "                dZ0 = self.FC1.backward(dA1) # dZ0は使用しない\n",
    "                \n",
    "            loss = np.sum(-mini_y*np.log(Z3))\n",
    "            self.loss[epoch] = loss\n",
    "            val_loss = np.sum(-test_mini_batch[i][1]*np.log(self._calculate_Z3(test_mini_batch[i][0])))\n",
    "            self.val_loss[epoch] = val_loss\n",
    "        return self.loss\n",
    "\n",
    "    def _calculate_Z3(self, X):\n",
    "        A1= self.FC1.forward(X)\n",
    "        Z1 = self.activation1.forward(A1)\n",
    "        A2 = self.FC2.forward(Z1)\n",
    "        Z2 = self.activation2.forward(A2)\n",
    "        A3 = self.FC3.forward(Z2)\n",
    "        Z3 = self.activation3.forward(A3)\n",
    "        return Z3\n",
    "\n",
    "    def predict(self, X):\n",
    "        A1_predict = self.FC1.forward(X)\n",
    "        Z1_predict = self.activation1.forward(A1_predict)\n",
    "        A2_predict = self.FC2.forward(Z1_predict)\n",
    "        Z2_predict = self.activation2.forward(A2_predict)\n",
    "        A3_predict = self.FC3.forward(Z2_predict)\n",
    "        Z3_predict = self.activation3.forward(A3_predict)\n",
    "        return np.argmax((Z3_predict), axis=1)\n",
    "\n",
    "    def plot(self):\n",
    "        plt.figure(figsize=(10, 5))\n",
    "        plt.title(\"DNN cost\")\n",
    "        plt.xlabel(\"epoch\")\n",
    "        plt.ylabel(\"cost\")\n",
    "        plt.plot(self.loss, label=\"train_loss\")\n",
    "#         plt.plot(self.val_loss, label=\"val_loss\")\n",
    "#         plt.yscale(\"log\")\n",
    "        plt.legend()"
   ]
  },
  {
   "cell_type": "code",
   "execution_count": 13,
   "metadata": {},
   "outputs": [],
   "source": [
    "DNN = ScratchDeepNeuralNetrowkClassifier(n_epocs=500, batch_size=500, n_nodes1=300, n_nodes2=200)"
   ]
  },
  {
   "cell_type": "code",
   "execution_count": 14,
   "metadata": {},
   "outputs": [
    {
     "data": {
      "text/plain": [
       "array([1144.72987146, 1107.62140613,  777.90966855,  500.65430563,\n",
       "        386.07615176,  326.19835476,  283.71800994,  251.77304342,\n",
       "        229.00841252,  212.89308786,  200.87581376,  191.30660762,\n",
       "        183.28517618,  176.34285352,  170.22233877,  164.76278537,\n",
       "        159.84984902,  155.39604286,  151.3326482 ,  147.60555822,\n",
       "        144.17233933,  140.99947562,  138.05944983,  135.32778571,\n",
       "        132.7805153 ,  130.39262737,  128.13781664,  125.98939156,\n",
       "        123.921797  ,  121.91210757,  119.94104692,  117.9933978 ,\n",
       "        116.05790178,  114.12684033,  112.19547671,  110.26148191,\n",
       "        108.3244103 ,  106.38525038,  104.44605301,  102.50962923,\n",
       "        100.57930693,   98.65873563,   96.75172961,   94.86214135,\n",
       "         92.99375787,   91.15021345,   89.3349124 ,   87.55095726,\n",
       "         85.80108113,   84.08758736,   82.41230325,   80.77655515,\n",
       "         79.18116985,   77.62650352,   76.11249486,   74.63873568,\n",
       "         73.20455011,   71.80907338,   70.4513229 ,   69.13025674,\n",
       "         67.84481791,   66.59396509,   65.37669185,   64.19203711,\n",
       "         63.03908915,   61.91698513,   60.82490766,   59.76207947,\n",
       "         58.72775681,   57.72122253,   56.7417791 ,   55.78874214,\n",
       "         54.86143486,   53.95918359,   53.08131449,   52.22715162,\n",
       "         51.39601608,   50.58722631,   49.80009913,   49.03395149,\n",
       "         48.28810273,   47.56187693,   46.85460551,   46.16562958,\n",
       "         45.49430219,   44.83999029,   44.20207631,   43.57995952,\n",
       "         42.97305694,   42.38080413,   41.80265568,   41.23808553,\n",
       "         40.68658716,   40.14767373,   39.62087804,   39.10575253,\n",
       "         38.60186917,   38.10881928,   37.62621333,   37.15368068,\n",
       "         36.69086922,   36.237445  ,   35.79309179,   35.3575106 ,\n",
       "         34.93041913,   34.51155124,   34.10065633,   33.6974987 ,\n",
       "         33.30185689,   32.91352301,   32.53230199,   32.15801084,\n",
       "         31.79047788,   31.42954198,   31.0750517 ,   30.72686453,\n",
       "         30.38484605,   30.04886911,   29.71881308,   29.39456299,\n",
       "         29.07600884,   28.76304485,   28.45556873,   28.15348106,\n",
       "         27.85668465,   27.56508398,   27.27858468,   26.99709302,\n",
       "         26.72051555,   26.44875867,   26.18172837,   25.91932996,\n",
       "         25.66146787,   25.4080455 ,   25.15896517,   24.91412809,\n",
       "         24.67343436,   24.43678304,   24.20407231,   23.97519957,\n",
       "         23.75006169,   23.52855515,   23.31057637,   23.09602187,\n",
       "         22.88478862,   22.67677425,   22.47187734,   22.26999769,\n",
       "         22.07103656,   21.87489696,   21.68148382,   21.49070428,\n",
       "         21.30246787,   21.11668671,   20.93327571,   20.75215272,\n",
       "         20.57323867,   20.39645775,   20.22173751,   20.04900895,\n",
       "         19.8782066 ,   19.70926862,   19.54213677,   19.37675644,\n",
       "         19.21307664,   19.05104991,   18.89063221,   18.73178283,\n",
       "         18.57446418,   18.41864161,   18.26428319,   18.11135948,\n",
       "         17.95984323,   17.80970918,   17.66093379,   17.51349497,\n",
       "         17.3673719 ,   17.22254481,   17.07899478,   16.93670364,\n",
       "         16.79565383,   16.65582827,   16.51721036,   16.37978386,\n",
       "         16.24353291,   16.10844202,   15.97449604,   15.84168022,\n",
       "         15.70998022,   15.57938212,   15.44987251,   15.3214385 ,\n",
       "         15.19406775,   15.06774855,   14.94246982,   14.81822112,\n",
       "         14.69499272,   14.57277554,   14.45156119,   14.33134188,\n",
       "         14.21211044,   14.09386017,   13.97658485,   13.86027859,\n",
       "         13.74493573,   13.63055073,   13.51711809,   13.40463218,\n",
       "         13.29308719,   13.182477  ,   13.07279513,   12.96403465,\n",
       "         12.85618815,   12.74924775,   12.64320507,   12.53805122,\n",
       "         12.43377691,   12.33037244,   12.22782775,   12.12613253,\n",
       "         12.02527627,   11.92524828,   11.82603783,   11.72763417,\n",
       "         11.63002658,   11.53320446,   11.43715731,   11.34187484,\n",
       "         11.24734697,   11.15356384,   11.06051586,   10.96819374,\n",
       "         10.87658846,   10.78569133,   10.69549395,   10.60598829,\n",
       "         10.51716662,   10.42902157,   10.3415461 ,   10.25473353,\n",
       "         10.16857751,   10.08307205,    9.99821152,    9.91399061,\n",
       "          9.83040439,    9.74744822,    9.66511785,    9.58340932,\n",
       "          9.50231899,    9.42184355,    9.34197994,    9.26272542,\n",
       "          9.18407748,    9.10603387,    9.02859256,    8.95175172,\n",
       "          8.87550971,    8.79986504,    8.72481639,    8.65036255,\n",
       "          8.57650241,    8.50323497,    8.43055928,    8.35847448,\n",
       "          8.28697972,    8.21607421,    8.14575717,    8.07602782,\n",
       "          8.0068854 ,    7.93832911,    7.87035816,    7.80297172,\n",
       "          7.73616892,    7.66994887,    7.60431059,    7.53925308,\n",
       "          7.47477527,    7.41087601,    7.34755408,    7.28480818,\n",
       "          7.22263694,    7.16103887,    7.10001241,    7.03955589,\n",
       "          6.97966753,    6.92034546,    6.86158767,    6.80339208,\n",
       "          6.74575645,    6.68867845,    6.63215562,    6.57618536,\n",
       "          6.52076498,    6.46589165,    6.4115624 ,    6.35777417,\n",
       "          6.30452375,    6.25180782,    6.19962292,    6.1479655 ,\n",
       "          6.09683187,    6.04621824,    5.99612069,    5.94653522,\n",
       "          5.8974577 ,    5.84888392,    5.80080957,    5.75323025,\n",
       "          5.70614149,    5.65953874,    5.61341737,    5.56777272,\n",
       "          5.52260007,    5.47789464,    5.43365165,    5.38986627,\n",
       "          5.34653368,    5.30364905,    5.26120754,    5.21920436,\n",
       "          5.17763474,    5.13649392,    5.09577722,    5.05547999,\n",
       "          5.01559766,    4.97612572,    4.93705975,    4.89839538,\n",
       "          4.86012835,    4.82225449,    4.78476971,    4.74767002,\n",
       "          4.71095152,    4.6746104 ,    4.63864295,    4.60304555,\n",
       "          4.56781465,    4.53294682,    4.49843867,    4.46428691,\n",
       "          4.43048832,    4.39703974,    4.36393809,    4.33118031,\n",
       "          4.29876342,    4.26668449,    4.23494062,    4.20352894,\n",
       "          4.17244661,    4.14169082,    4.11125878,    4.08114771,\n",
       "          4.05135483,    4.02187737,    3.99271257,    3.96385762,\n",
       "          3.93530975,    3.90706613,    3.87912392,    3.85148027,\n",
       "          3.82413227,    3.797077  ,    3.77031149,    3.74383273,\n",
       "          3.71763768,    3.69172324,    3.66608628,    3.64072363,\n",
       "          3.61563207,    3.59080836,    3.5662492 ,    3.54195129,\n",
       "          3.51791127,    3.4941258 ,    3.47059149,    3.44730496,\n",
       "          3.42426282,    3.4014617 ,    3.37889822,    3.35656903,\n",
       "          3.3344708 ,    3.31260023,    3.29095406,    3.26952905,\n",
       "          3.24832202,    3.22732983,    3.2065494 ,    3.1859777 ,\n",
       "          3.16561173,    3.14544857,    3.12548535,    3.10571927,\n",
       "          3.08614756,    3.06676753,    3.04757654,    3.02857201,\n",
       "          3.00975139,    2.99111222,    2.97265208,    2.95436859,\n",
       "          2.93625943,    2.91832232,    2.90055505,    2.88295543,\n",
       "          2.86552133,    2.84825065,    2.83114134,    2.81419139,\n",
       "          2.79739882,    2.78076171,    2.76427814,    2.74794627,\n",
       "          2.73176424,    2.71573028,    2.69984261,    2.6840995 ,\n",
       "          2.66849923,    2.65304014,    2.63772058,    2.62253892,\n",
       "          2.60749356,    2.59258295,    2.57780553,    2.56315978,\n",
       "          2.54864421,    2.53425733,    2.51999771,    2.5058639 ,\n",
       "          2.4918545 ,    2.47796812,    2.46420339,    2.45055896,\n",
       "          2.4370335 ,    2.42362569,    2.41033425,    2.39715789,\n",
       "          2.38409536,    2.37114541,    2.35830682,    2.34557838,\n",
       "          2.3329589 ,    2.32044718,    2.30804208,    2.29574245,\n",
       "          2.28354714,    2.27145504,    2.25946505,    2.24757606,\n",
       "          2.23578701,    2.22409682,    2.21250445,    2.20100886,\n",
       "          2.18960901,    2.1783039 ,    2.16709251,    2.15597387,\n",
       "          2.14494699,    2.13401091,    2.12316467,    2.11240732,\n",
       "          2.10173794,    2.0911556 ,    2.0806594 ,    2.07024842,\n",
       "          2.05992179,    2.04967862,    2.03951804,    2.02943921,\n",
       "          2.01944126,    2.00952336,    1.99968468,    1.9899244 ,\n",
       "          1.98024172,    1.97063583,    1.96110594,    1.95165127,\n",
       "          1.94227105,    1.93296452,    1.92373092,    1.91456951,\n",
       "          1.90547955,    1.8964603 ,    1.88751106,    1.87863111,\n",
       "          1.86981975,    1.86107628,    1.85240002,    1.84379029,\n",
       "          1.83524641,    1.82676772,    1.81835358,    1.81000332,\n",
       "          1.80171632,    1.79349193,    1.78532953,    1.77722852,\n",
       "          1.76918826,    1.76120816,    1.75328763,    1.74542607])"
      ]
     },
     "execution_count": 14,
     "metadata": {},
     "output_type": "execute_result"
    }
   ],
   "source": [
    "DNN.fit(X_train.astype('f'), y_train.astype('f'), X_val, y_val)"
   ]
  },
  {
   "cell_type": "code",
   "execution_count": 15,
   "metadata": {},
   "outputs": [
    {
     "data": {
      "image/png": "[encoded data removed]",
      "text/plain": [
       "<Figure size 720x360 with 1 Axes>"
      ]
     },
     "metadata": {
      "needs_background": "light"
     },
     "output_type": "display_data"
    }
   ],
   "source": [
    "DNN.plot()"
   ]
  },
  {
   "cell_type": "code",
   "execution_count": 16,
   "metadata": {},
   "outputs": [
    {
     "data": {
      "text/plain": [
       "array([7, 2, 1, ..., 4, 5, 6])"
      ]
     },
     "execution_count": 16,
     "metadata": {},
     "output_type": "execute_result"
    }
   ],
   "source": [
    "DNN.predict(X_test)"
   ]
  },
  {
   "cell_type": "code",
   "execution_count": 17,
   "metadata": {},
   "outputs": [
    {
     "data": {
      "text/plain": [
       "0.9791"
      ]
     },
     "execution_count": 17,
     "metadata": {},
     "output_type": "execute_result"
    }
   ],
   "source": [
    "from sklearn.metrics import accuracy_score\n",
    "\n",
    "accuracy_score(y_test, DNN.predict(X_test))\n"
   ]
  },
  {
   "cell_type": "markdown",
   "metadata": {},
   "source": [
    "重みの初期値にXavierを使用"
   ]
  },
  {
   "cell_type": "code",
   "execution_count": 18,
   "metadata": {},
   "outputs": [],
   "source": [
    "import numpy as np\n",
    "import matplotlib.pyplot as plt\n",
    "\n",
    "class ScratchDNNClassifierXavier:\n",
    "    def __init__(self, n_epocs, batch_size, n_nodes1, n_nodes2, alpha=0.001, sigma=0.01, n_output=10):\n",
    "        self.n_epocs = n_epocs\n",
    "        self.alpha = alpha\n",
    "        self.sigma = sigma\n",
    "        self.batch_size = batch_size\n",
    "        self.n_nodes1 = n_nodes1\n",
    "        self.n_nodes2 = n_nodes2\n",
    "        self.n_output = n_output\n",
    "        self.loss = np.zeros(n_epocs)\n",
    "        self.val_loss = np.zeros(n_epocs)\n",
    "    \n",
    "    def fit(self, X, y, X_val=None, y_val=None):\n",
    "        self.n_features =X.shape[1]\n",
    "        train_mini_batch = GetMiniBatch(X, y, batch_size=self.batch_size)\n",
    "        test_mini_batch = GetMiniBatch(X_val, y_val, batch_size=self.batch_size)\n",
    "        optimizer = SGD(self.alpha)\n",
    "        self.FC1 = FC(self.n_features, self.n_nodes1, XavierInitializer(self.sigma), optimizer)\n",
    "        self.activation1 = Tanh()\n",
    "        self.FC2 = FC(self.n_nodes1, self.n_nodes2, XavierInitializer(self.sigma), optimizer)\n",
    "        self.activation2 = Tanh()\n",
    "        self.FC3 = FC(self.n_nodes2, self.n_output, XavierInitializer(self.sigma), optimizer)\n",
    "        self.activation3 = Softmax()\n",
    "        for epoch in range(self.n_epocs):\n",
    "            for i, (mini_X, mini_y) in enumerate(train_mini_batch):\n",
    "                X = mini_X\n",
    "                y = mini_y\n",
    "                A1 = self.FC1.forward(X)\n",
    "                Z1 = self.activation1.forward(A1)\n",
    "                A2 = self.FC2.forward(Z1)\n",
    "                Z2 = self.activation2.forward(A2)\n",
    "                A3 = self.FC3.forward(Z2)\n",
    "                Z3 = self.activation3.forward(A3)\n",
    "\n",
    "                dA3 = self.activation3.backward(y) #y^ - y\n",
    "                dZ2 = self.FC3.backward(dA3)\n",
    "                dA2 = self.activation2.backward(dZ2)\n",
    "                dZ1 = self.FC2.backward(dA2)\n",
    "                dA1 = self.activation1.backward(dZ1)\n",
    "                dZ0 = self.FC1.backward(dA1) # dZ0は使用しない\n",
    "                \n",
    "            loss = np.sum(-mini_y*np.log(Z3))\n",
    "            self.loss[epoch] = loss\n",
    "            val_loss = np.sum(-test_mini_batch[i][1]*np.log(self._calculate_Z3(test_mini_batch[i][0])))\n",
    "            self.val_loss[epoch] = val_loss\n",
    "        return self.loss\n",
    "\n",
    "    def _calculate_Z3(self, X):\n",
    "        A1= self.FC1.forward(X)\n",
    "        Z1 = self.activation1.forward(A1)\n",
    "        A2 = self.FC2.forward(Z1)\n",
    "        Z2 = self.activation2.forward(A2)\n",
    "        A3 = self.FC3.forward(Z2)\n",
    "        Z3 = self.activation3.forward(A3)\n",
    "        return Z3\n",
    "\n",
    "    def predict(self, X):\n",
    "        A1_predict = self.FC1.forward(X)\n",
    "        Z1_predict = self.activation1.forward(A1_predict)\n",
    "        A2_predict = self.FC2.forward(Z1_predict)\n",
    "        Z2_predict = self.activation2.forward(A2_predict)\n",
    "        A3_predict = self.FC3.forward(Z2_predict)\n",
    "        Z3_predict = self.activation3.forward(A3_predict)\n",
    "        return np.argmax((Z3_predict), axis=1)\n",
    "\n",
    "    def plot(self):\n",
    "        plt.figure(figsize=(10, 5))\n",
    "        plt.title(\"DNN(Xavier) cost\")\n",
    "        plt.xlabel(\"epoch\")\n",
    "        plt.ylabel(\"cost\")\n",
    "        plt.plot(self.loss, label=\"train_loss\")\n",
    "#         plt.plot(self.val_loss, label=\"val_loss\")\n",
    "#         plt.yscale(\"log\")\n",
    "        plt.legend()"
   ]
  },
  {
   "cell_type": "code",
   "execution_count": 19,
   "metadata": {},
   "outputs": [],
   "source": [
    "DNN_Xavier = ScratchDNNClassifierXavier(n_epocs=500, batch_size=500, n_nodes1=300, n_nodes2=200)"
   ]
  },
  {
   "cell_type": "code",
   "execution_count": 20,
   "metadata": {},
   "outputs": [
    {
     "data": {
      "text/plain": [
       "array([1.52971712e+02, 1.15412800e+02, 9.15257736e+01, 7.47595431e+01,\n",
       "       6.31388391e+01, 5.46501408e+01, 4.80220567e+01, 4.25612520e+01,\n",
       "       3.79439684e+01, 3.40105779e+01, 3.06553087e+01, 2.77824861e+01,\n",
       "       2.53023263e+01, 2.31411566e+01, 2.12432139e+01, 1.95646216e+01,\n",
       "       1.80675343e+01, 1.67196816e+01, 1.54958866e+01, 1.43773576e+01,\n",
       "       1.33499644e+01, 1.24030301e+01, 1.15285002e+01, 1.07202274e+01,\n",
       "       9.97328132e+00, 9.28315169e+00, 8.64524290e+00, 8.05501776e+00,\n",
       "       7.50849768e+00, 7.00267593e+00, 6.53548179e+00, 6.10525055e+00,\n",
       "       5.71014854e+00, 5.34793628e+00, 5.01603392e+00, 4.71171261e+00,\n",
       "       4.43229956e+00, 4.17533630e+00, 3.93866179e+00, 3.72042454e+00,\n",
       "       3.51904618e+00, 3.33315756e+00, 3.16152602e+00, 3.00299491e+00,\n",
       "       2.85645085e+00, 2.72081835e+00, 2.59507374e+00, 2.47826989e+00,\n",
       "       2.36956172e+00, 2.26822008e+00, 2.17362519e+00, 2.08524292e+00,\n",
       "       2.00259735e+00, 1.92525049e+00, 1.85279230e+00, 1.78483789e+00,\n",
       "       1.72102789e+00, 1.66102944e+00, 1.60453662e+00, 1.55126997e+00,\n",
       "       1.50097538e+00, 1.45342239e+00, 1.40840231e+00, 1.36572626e+00,\n",
       "       1.32522316e+00, 1.28673797e+00, 1.25012990e+00, 1.21527096e+00,\n",
       "       1.18204451e+00, 1.15034407e+00, 1.12007223e+00, 1.09113967e+00,\n",
       "       1.06346435e+00, 1.03697073e+00, 1.01158917e+00, 9.87255293e-01,\n",
       "       9.63909519e-01, 9.41496607e-01, 9.19965258e-01, 8.99267763e-01,\n",
       "       8.79359692e-01, 8.60199611e-01, 8.41748834e-01, 8.23971201e-01,\n",
       "       8.06832873e-01, 7.90302151e-01, 7.74349312e-01, 7.58946460e-01,\n",
       "       7.44067390e-01, 7.29687463e-01, 7.15783499e-01, 7.02333664e-01,\n",
       "       6.89317387e-01, 6.76715266e-01, 6.64508989e-01, 6.52681265e-01,\n",
       "       6.41215753e-01, 6.30096999e-01, 6.19310382e-01, 6.08842059e-01,\n",
       "       5.98678913e-01, 5.88808514e-01, 5.79219069e-01, 5.69899389e-01,\n",
       "       5.60838849e-01, 5.52027353e-01, 5.43455307e-01, 5.35113584e-01,\n",
       "       5.26993503e-01, 5.19086795e-01, 5.11385588e-01, 5.03882377e-01,\n",
       "       4.96570009e-01, 4.89441659e-01, 4.82490816e-01, 4.75711262e-01,\n",
       "       4.69097057e-01, 4.62642528e-01, 4.56342246e-01, 4.50191025e-01,\n",
       "       4.44183896e-01, 4.38316108e-01, 4.32583109e-01, 4.26980536e-01,\n",
       "       4.21504211e-01, 4.16150126e-01, 4.10914436e-01, 4.05793454e-01,\n",
       "       4.00783639e-01, 3.95881590e-01, 3.91084043e-01, 3.86387857e-01,\n",
       "       3.81790017e-01, 3.77287620e-01, 3.72877876e-01, 3.68558099e-01,\n",
       "       3.64325702e-01, 3.60178197e-01, 3.56113186e-01, 3.52128356e-01,\n",
       "       3.48221481e-01, 3.44390413e-01, 3.40633082e-01, 3.36947487e-01,\n",
       "       3.33331702e-01, 3.29783864e-01, 3.26302176e-01, 3.22884902e-01,\n",
       "       3.19530363e-01, 3.16236939e-01, 3.13003063e-01, 3.09827219e-01,\n",
       "       3.06707941e-01, 3.03643812e-01, 3.00633459e-01, 2.97675555e-01,\n",
       "       2.94768812e-01, 2.91911986e-01, 2.89103871e-01, 2.86343298e-01,\n",
       "       2.83629134e-01, 2.80960281e-01, 2.78335675e-01, 2.75754283e-01,\n",
       "       2.73215105e-01, 2.70717168e-01, 2.68259530e-01, 2.65841276e-01,\n",
       "       2.63461517e-01, 2.61119392e-01, 2.58814062e-01, 2.56544713e-01,\n",
       "       2.54310555e-01, 2.52110820e-01, 2.49944761e-01, 2.47811652e-01,\n",
       "       2.45710787e-01, 2.43641479e-01, 2.41603061e-01, 2.39594883e-01,\n",
       "       2.37616314e-01, 2.35666738e-01, 2.33745556e-01, 2.31852187e-01,\n",
       "       2.29986061e-01, 2.28146626e-01, 2.26333345e-01, 2.24545693e-01,\n",
       "       2.22783159e-01, 2.21045245e-01, 2.19331466e-01, 2.17641349e-01,\n",
       "       2.15974434e-01, 2.14330269e-01, 2.12708419e-01, 2.11108453e-01,\n",
       "       2.09529957e-01, 2.07972522e-01, 2.06435752e-01, 2.04919260e-01,\n",
       "       2.03422667e-01, 2.01945604e-01, 2.00487711e-01, 1.99048637e-01,\n",
       "       1.97628037e-01, 1.96225577e-01, 1.94840928e-01, 1.93473771e-01,\n",
       "       1.92123793e-01, 1.90790688e-01, 1.89474158e-01, 1.88173911e-01,\n",
       "       1.86889661e-01, 1.85621131e-01, 1.84368047e-01, 1.83130143e-01,\n",
       "       1.81907158e-01, 1.80698837e-01, 1.79504931e-01, 1.78325197e-01,\n",
       "       1.77159395e-01, 1.76007291e-01, 1.74868659e-01, 1.73743274e-01,\n",
       "       1.72630917e-01, 1.71531374e-01, 1.70444436e-01, 1.69369897e-01,\n",
       "       1.68307556e-01, 1.67257218e-01, 1.66218688e-01, 1.65191778e-01,\n",
       "       1.64176303e-01, 1.63172083e-01, 1.62178940e-01, 1.61196699e-01,\n",
       "       1.60225192e-01, 1.59264250e-01, 1.58313711e-01, 1.57373414e-01,\n",
       "       1.56443201e-01, 1.55522920e-01, 1.54612418e-01, 1.53711548e-01,\n",
       "       1.52820165e-01, 1.51938126e-01, 1.51065291e-01, 1.50201524e-01,\n",
       "       1.49346691e-01, 1.48500659e-01, 1.47663300e-01, 1.46834486e-01,\n",
       "       1.46014093e-01, 1.45202000e-01, 1.44398085e-01, 1.43602232e-01,\n",
       "       1.42814326e-01, 1.42034252e-01, 1.41261900e-01, 1.40497160e-01,\n",
       "       1.39739926e-01, 1.38990091e-01, 1.38247554e-01, 1.37512211e-01,\n",
       "       1.36783964e-01, 1.36062715e-01, 1.35348368e-01, 1.34640827e-01,\n",
       "       1.33940001e-01, 1.33245798e-01, 1.32558128e-01, 1.31876904e-01,\n",
       "       1.31202039e-01, 1.30533449e-01, 1.29871049e-01, 1.29214757e-01,\n",
       "       1.28564494e-01, 1.27920179e-01, 1.27281735e-01, 1.26649085e-01,\n",
       "       1.26022153e-01, 1.25400867e-01, 1.24785152e-01, 1.24174937e-01,\n",
       "       1.23570152e-01, 1.22970727e-01, 1.22376595e-01, 1.21787688e-01,\n",
       "       1.21203941e-01, 1.20625288e-01, 1.20051666e-01, 1.19483013e-01,\n",
       "       1.18919265e-01, 1.18360363e-01, 1.17806247e-01, 1.17256858e-01,\n",
       "       1.16712138e-01, 1.16172030e-01, 1.15636479e-01, 1.15105428e-01,\n",
       "       1.14578823e-01, 1.14056612e-01, 1.13538741e-01, 1.13025159e-01,\n",
       "       1.12515814e-01, 1.12010657e-01, 1.11509637e-01, 1.11012707e-01,\n",
       "       1.10519818e-01, 1.10030923e-01, 1.09545975e-01, 1.09064929e-01,\n",
       "       1.08587739e-01, 1.08114361e-01, 1.07644751e-01, 1.07178867e-01,\n",
       "       1.06716665e-01, 1.06258103e-01, 1.05803141e-01, 1.05351738e-01,\n",
       "       1.04903853e-01, 1.04459448e-01, 1.04018483e-01, 1.03580920e-01,\n",
       "       1.03146721e-01, 1.02715849e-01, 1.02288267e-01, 1.01863940e-01,\n",
       "       1.01442830e-01, 1.01024904e-01, 1.00610127e-01, 1.00198464e-01,\n",
       "       9.97898820e-02, 9.93843473e-02, 9.89818274e-02, 9.85822900e-02,\n",
       "       9.81857032e-02, 9.77920357e-02, 9.74012564e-02, 9.70133348e-02,\n",
       "       9.66282409e-02, 9.62459448e-02, 9.58664173e-02, 9.54896295e-02,\n",
       "       9.51155528e-02, 9.47441592e-02, 9.43754208e-02, 9.40093104e-02,\n",
       "       9.36458008e-02, 9.32848655e-02, 9.29264781e-02, 9.25706126e-02,\n",
       "       9.22172436e-02, 9.18663457e-02, 9.15178940e-02, 9.11718638e-02,\n",
       "       9.08282310e-02, 9.04869715e-02, 9.01480616e-02, 8.98114781e-02,\n",
       "       8.94771978e-02, 8.91451980e-02, 8.88154563e-02, 8.84879504e-02,\n",
       "       8.81626586e-02, 8.78395591e-02, 8.75186307e-02, 8.71998522e-02,\n",
       "       8.68832029e-02, 8.65686623e-02, 8.62562100e-02, 8.59458260e-02,\n",
       "       8.56374906e-02, 8.53311842e-02, 8.50268875e-02, 8.47245815e-02,\n",
       "       8.44242474e-02, 8.41258665e-02, 8.38294205e-02, 8.35348914e-02,\n",
       "       8.32422611e-02, 8.29515120e-02, 8.26626266e-02, 8.23755876e-02,\n",
       "       8.20903780e-02, 8.18069809e-02, 8.15253797e-02, 8.12455579e-02,\n",
       "       8.09674993e-02, 8.06911878e-02, 8.04166075e-02, 8.01437427e-02,\n",
       "       7.98725780e-02, 7.96030980e-02, 7.93352876e-02, 7.90691318e-02,\n",
       "       7.88046158e-02, 7.85417251e-02, 7.82804452e-02, 7.80207618e-02,\n",
       "       7.77626607e-02, 7.75061281e-02, 7.72511502e-02, 7.69977133e-02,\n",
       "       7.67458039e-02, 7.64954088e-02, 7.62465147e-02, 7.59991087e-02,\n",
       "       7.57531778e-02, 7.55087093e-02, 7.52656907e-02, 7.50241095e-02,\n",
       "       7.47839534e-02, 7.45452102e-02, 7.43078679e-02, 7.40719146e-02,\n",
       "       7.38373385e-02, 7.36041280e-02, 7.33722716e-02, 7.31417579e-02,\n",
       "       7.29125756e-02, 7.26847136e-02, 7.24581610e-02, 7.22329067e-02,\n",
       "       7.20089400e-02, 7.17862503e-02, 7.15648271e-02, 7.13446598e-02,\n",
       "       7.11257382e-02, 7.09080520e-02, 7.06915913e-02, 7.04763458e-02,\n",
       "       7.02623059e-02, 7.00494617e-02, 6.98378036e-02, 6.96273218e-02,\n",
       "       6.94180071e-02, 6.92098500e-02, 6.90028412e-02, 6.87969716e-02,\n",
       "       6.85922321e-02, 6.83886136e-02, 6.81861074e-02, 6.79847045e-02,\n",
       "       6.77843963e-02, 6.75851742e-02, 6.73870295e-02, 6.71899540e-02,\n",
       "       6.69939392e-02, 6.67989768e-02, 6.66050587e-02, 6.64121767e-02,\n",
       "       6.62203229e-02, 6.60294892e-02, 6.58396678e-02, 6.56508510e-02,\n",
       "       6.54630310e-02, 6.52762002e-02, 6.50903510e-02, 6.49054760e-02,\n",
       "       6.47215677e-02, 6.45386189e-02, 6.43566223e-02, 6.41755706e-02,\n",
       "       6.39954569e-02, 6.38162739e-02, 6.36380148e-02, 6.34606727e-02,\n",
       "       6.32842407e-02, 6.31087120e-02, 6.29340799e-02, 6.27603378e-02,\n",
       "       6.25874792e-02, 6.24154974e-02, 6.22443860e-02, 6.20741387e-02,\n",
       "       6.19047492e-02, 6.17362111e-02, 6.15685182e-02, 6.14016644e-02,\n",
       "       6.12356437e-02, 6.10704499e-02, 6.09060771e-02, 6.07425194e-02,\n",
       "       6.05797709e-02, 6.04178259e-02, 6.02566784e-02, 6.00963230e-02,\n",
       "       5.99367538e-02, 5.97779654e-02, 5.96199521e-02, 5.94627085e-02,\n",
       "       5.93062292e-02, 5.91505087e-02, 5.89955417e-02, 5.88413229e-02,\n",
       "       5.86878471e-02, 5.85351091e-02, 5.83831038e-02, 5.82318259e-02])"
      ]
     },
     "execution_count": 20,
     "metadata": {},
     "output_type": "execute_result"
    }
   ],
   "source": [
    "DNN_Xavier.fit(X_train.astype('f'), y_train.astype('f'), X_val, y_val)"
   ]
  },
  {
   "cell_type": "code",
   "execution_count": 21,
   "metadata": {},
   "outputs": [
    {
     "data": {
      "image/png": "[encoded data removed]",
      "text/plain": [
       "<Figure size 720x360 with 1 Axes>"
      ]
     },
     "metadata": {
      "needs_background": "light"
     },
     "output_type": "display_data"
    }
   ],
   "source": [
    "DNN_Xavier.plot()"
   ]
  },
  {
   "cell_type": "code",
   "execution_count": 22,
   "metadata": {},
   "outputs": [
    {
     "data": {
      "text/plain": [
       "array([7, 2, 1, ..., 4, 5, 6])"
      ]
     },
     "execution_count": 22,
     "metadata": {},
     "output_type": "execute_result"
    }
   ],
   "source": [
    "DNN_Xavier.predict(X_test)"
   ]
  },
  {
   "cell_type": "code",
   "execution_count": 23,
   "metadata": {},
   "outputs": [
    {
     "data": {
      "text/plain": [
       "0.9807"
      ]
     },
     "execution_count": 23,
     "metadata": {},
     "output_type": "execute_result"
    }
   ],
   "source": [
    "from sklearn.metrics import accuracy_score\n",
    "\n",
    "accuracy_score(y_test, DNN_Xavier.predict(X_test))\n"
   ]
  },
  {
   "cell_type": "markdown",
   "metadata": {},
   "source": [
    "初期値にHe、活性化関数にRelu関数を使用"
   ]
  },
  {
   "cell_type": "code",
   "execution_count": 24,
   "metadata": {},
   "outputs": [],
   "source": [
    "import numpy as np\n",
    "import matplotlib.pyplot as plt\n",
    "\n",
    "class ScratchDNNClassifierHeRelu:\n",
    "    def __init__(self, n_epocs, batch_size, n_nodes1, n_nodes2, alpha=0.001, sigma=0.01, n_output=10):\n",
    "        self.n_epocs = n_epocs\n",
    "        self.alpha = alpha\n",
    "        self.sigma = sigma\n",
    "        self.batch_size = batch_size\n",
    "        self.n_nodes1 = n_nodes1\n",
    "        self.n_nodes2 = n_nodes2\n",
    "        self.n_output = n_output\n",
    "        self.loss = np.zeros(n_epocs)\n",
    "        self.val_loss = np.zeros(n_epocs)\n",
    "    \n",
    "    def fit(self, X, y, X_val=None, y_val=None):\n",
    "        self.n_features =X.shape[1]\n",
    "        train_mini_batch = GetMiniBatch(X, y, batch_size=self.batch_size)\n",
    "        test_mini_batch = GetMiniBatch(X_val, y_val, batch_size=self.batch_size)\n",
    "        optimizer = SGD(self.alpha)\n",
    "        self.FC1 = FC(self.n_features, self.n_nodes1, HeInitializer(self.sigma), optimizer)\n",
    "        self.activation1 = ReLU()\n",
    "        self.FC2 = FC(self.n_nodes1, self.n_nodes2, HeInitializer(self.sigma), optimizer)\n",
    "        self.activation2 = ReLU()\n",
    "        self.FC3 = FC(self.n_nodes2, self.n_output, HeInitializer(self.sigma), optimizer)\n",
    "        self.activation3 = Softmax()\n",
    "        for epoch in range(self.n_epocs):\n",
    "            for i, (mini_X, mini_y) in enumerate(train_mini_batch):\n",
    "                X = mini_X\n",
    "                y = mini_y\n",
    "                A1 = self.FC1.forward(X)\n",
    "                Z1 = self.activation1.forward(A1)\n",
    "                A2 = self.FC2.forward(Z1)\n",
    "                Z2 = self.activation2.forward(A2)\n",
    "                A3 = self.FC3.forward(Z2)\n",
    "                Z3 = self.activation3.forward(A3)\n",
    "\n",
    "                dA3 = self.activation3.backward(y) #y^ - y\n",
    "                dZ2 = self.FC3.backward(dA3)\n",
    "                dA2 = self.activation2.backward(dZ2)\n",
    "                dZ1 = self.FC2.backward(dA2)\n",
    "                dA1 = self.activation1.backward(dZ1)\n",
    "                dZ0 = self.FC1.backward(dA1) # dZ0は使用しない\n",
    "                \n",
    "            loss = np.sum(-mini_y*np.log(Z3))\n",
    "            self.loss[epoch] = loss\n",
    "            val_loss = np.sum(-test_mini_batch[i][1]*np.log(self._calculate_Z3(test_mini_batch[i][0])))\n",
    "            self.val_loss[epoch] = val_loss\n",
    "        return self.loss, self.val_loss\n",
    "    \n",
    "    def _calculate_Z3(self, X):\n",
    "        A1= self.FC1.forward(X)\n",
    "        Z1 = self.activation1.forward(A1)\n",
    "        A2 = self.FC2.forward(Z1)\n",
    "        Z2 = self.activation2.forward(A2)\n",
    "        A3 = self.FC3.forward(Z2)\n",
    "        Z3 = self.activation3.forward(A3)\n",
    "        return Z3\n",
    "\n",
    "    def predict(self, X):\n",
    "        A1_predict = self.FC1.forward(X)\n",
    "        Z1_predict = self.activation1.forward(A1_predict)\n",
    "        A2_predict = self.FC2.forward(Z1_predict)\n",
    "        Z2_predict = self.activation2.forward(A2_predict)\n",
    "        A3_predict = self.FC3.forward(Z2_predict)\n",
    "        Z3_predict = self.activation3.forward(A3_predict)\n",
    "        return np.argmax((Z3_predict), axis=1)\n",
    "\n",
    "    def plot(self):\n",
    "        plt.figure(figsize=(10, 5))\n",
    "        plt.title(\"DNN(He,Relu) cost\")\n",
    "        plt.xlabel(\"epoch\")\n",
    "        plt.ylabel(\"cost\")\n",
    "        plt.plot(self.loss, label=\"train_loss\")\n",
    "        plt.plot(self.val_loss, label=\"val_loss\")\n",
    "#         plt.yscale(\"log\")\n",
    "        plt.legend()"
   ]
  },
  {
   "cell_type": "code",
   "execution_count": 25,
   "metadata": {},
   "outputs": [],
   "source": [
    "DNN_ReLU = ScratchDNNClassifierHeRelu(n_epocs=30, batch_size=50, n_nodes1=300, n_nodes2=200)"
   ]
  },
  {
   "cell_type": "code",
   "execution_count": 26,
   "metadata": {},
   "outputs": [
    {
     "data": {
      "text/plain": [
       "(array([26.42481988, 20.89840826, 18.14263231, 16.52473622, 15.21324016,\n",
       "        13.71225618, 12.38009539, 11.12992236, 10.01470278,  8.8952036 ,\n",
       "         7.83817119,  6.87427833,  6.00511267,  5.251682  ,  4.49418068,\n",
       "         3.78279226,  3.14241164,  2.55635226,  2.11641386,  1.75311618,\n",
       "         1.47796853,  1.2568839 ,  1.08525435,  0.95414736,  0.84467952,\n",
       "         0.76016669,  0.68318889,  0.62501712,  0.57155753,  0.52775141]),\n",
       " array([19.73545449, 16.03546518, 13.72581844, 11.96945587, 10.68470851,\n",
       "         9.56358967,  8.84026922,  8.38760784,  8.03211685,  7.76290336,\n",
       "         7.65588944,  7.62383872,  7.59481322,  7.63535804,  7.68186305,\n",
       "         7.73191074,  7.76726673,  7.81161054,  7.79958851,  7.82119956,\n",
       "         7.91878252,  7.9681273 ,  8.04288727,  8.09486773,  8.16448913,\n",
       "         8.18517266,  8.21152381,  8.28177923,  8.319894  ,  8.34128425]))"
      ]
     },
     "execution_count": 26,
     "metadata": {},
     "output_type": "execute_result"
    }
   ],
   "source": [
    "DNN_ReLU.fit(X_train[:12000].astype('f'), y_train[:12000].astype('f'), X_val, y_val)"
   ]
  },
  {
   "cell_type": "code",
   "execution_count": 27,
   "metadata": {
    "scrolled": true
   },
   "outputs": [
    {
     "data": {
      "image/png": "[encoded data removed]",
      "text/plain": [
       "<Figure size 720x360 with 1 Axes>"
      ]
     },
     "metadata": {
      "needs_background": "light"
     },
     "output_type": "display_data"
    }
   ],
   "source": [
    "DNN_ReLU.plot()"
   ]
  },
  {
   "cell_type": "code",
   "execution_count": 28,
   "metadata": {},
   "outputs": [
    {
     "data": {
      "text/plain": [
       "array([7, 2, 1, ..., 4, 5, 6])"
      ]
     },
     "execution_count": 28,
     "metadata": {},
     "output_type": "execute_result"
    }
   ],
   "source": [
    "DNN_ReLU.predict(X_test)"
   ]
  },
  {
   "cell_type": "code",
   "execution_count": 29,
   "metadata": {},
   "outputs": [
    {
     "data": {
      "text/plain": [
       "0.9628"
      ]
     },
     "execution_count": 29,
     "metadata": {},
     "output_type": "execute_result"
    }
   ],
   "source": [
    "from sklearn.metrics import accuracy_score\n",
    "\n",
    "accuracy_score(y_test, DNN_ReLU.predict(X_test))\n"
   ]
  },
  {
   "cell_type": "markdown",
   "metadata": {},
   "source": [
    "ランダムに初期値設定したり、tanhを使用するよりもHe、ReLUを使用したほうが早く収束している。"
   ]
  }
 ],
 "metadata": {
  "kernelspec": {
   "display_name": "Python 3",
   "language": "python",
   "name": "python3"
  },
  "language_info": {
   "codemirror_mode": {
    "name": "ipython",
    "version": 3
   },
   "file_extension": ".py",
   "mimetype": "text/x-python",
   "name": "python",
   "nbconvert_exporter": "python",
   "pygments_lexer": "ipython3",
   "version": "3.6.8"
  },
  "toc": {
   "base_numbering": 1,
   "nav_menu": {},
   "number_sections": false,
   "sideBar": true,
   "skip_h1_title": false,
   "title_cell": "Table of Contents",
   "title_sidebar": "Contents",
   "toc_cell": false,
   "toc_position": {},
   "toc_section_display": true,
   "toc_window_display": false
  }
 },
 "nbformat": 4,
 "nbformat_minor": 2
}
