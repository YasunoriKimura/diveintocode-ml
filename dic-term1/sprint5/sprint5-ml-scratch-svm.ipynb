{
 "cells": [
  {
   "cell_type": "markdown",
   "metadata": {},
   "source": [
    "# Sprint5課題 機械学習スクラッチSVM"
   ]
  },
  {
   "cell_type": "code",
   "execution_count": 11,
   "metadata": {},
   "outputs": [],
   "source": [
    "\"\"\"\n",
    "irisデータを読み込むコード\n",
    "\"\"\"\n",
    "\n",
    "from sklearn.datasets import load_iris\n",
    "import pandas as pd\n",
    "from pandas import DataFrame\n",
    "import numpy as np\n",
    "from sklearn.model_selection import train_test_split\n",
    "from sklearn.preprocessing import StandardScaler\n",
    "\n",
    "data = load_iris()\n",
    "df_X = DataFrame(data=data.data, columns=pd.Index([\"sepal_length\", \"sepal_width\", \"petal_length\", \"petal_width\"]))\n",
    "df_y = DataFrame(data=data.target, columns=pd.Index([\"Target\"]))\n",
    "df_X =df_X[[\"sepal_length\", \"petal_length\"]]\n",
    "df_train= df_X.join(df_y).query(\"Target == [1, 2]\")\n",
    "X = df_train.drop(\"Target\", axis=1).values\n",
    "y = df_train[[\"Target\"]].values\n",
    "\n",
    "(X_train, X_val, y_train, y_val) = train_test_split(X, y, test_size=0.3)\n",
    "\n",
    "#ラベルを1or2から−1or1に置き換える\n",
    "y_train = np.where(y_train==1, -1, 1)\n",
    "y_val = np.where(y_val==1, -1, 1)\n",
    "# y_val = \n",
    "\n",
    "#標準化\n",
    "scaler = StandardScaler()\n",
    "scaler.fit(X_train)\n",
    "X_train = scaler.transform(X_train)\n",
    "X_val = scaler.transform(X_val)"
   ]
  },
  {
   "cell_type": "markdown",
   "metadata": {},
   "source": [
    "## スクラッチによる実装"
   ]
  },
  {
   "cell_type": "markdown",
   "metadata": {},
   "source": [
    "### 【問題1】SVM分類器のクラスを作成する"
   ]
  },
  {
   "cell_type": "markdown",
   "metadata": {},
   "source": [
    "#### ラグランジュの未定乗数法による最急降下\n",
    "$$\n",
    "\\lambda_i^{new} = \\lambda_i + \\alpha(1 - \\sum_{j=1}^{n}{\\lambda_j y_i y_j k(x_i, x_j)})\n",
    "$$\n",
    "\n",
    "$$\n",
    "k(x_i, x_j) = x_{i}^{T} x_j\n",
    "$$"
   ]
  },
  {
   "cell_type": "code",
   "execution_count": 12,
   "metadata": {},
   "outputs": [],
   "source": [
    "lam= np.random.rand(70, 1)\n",
    "lr = 1*10**-8"
   ]
  },
  {
   "cell_type": "code",
   "execution_count": 13,
   "metadata": {},
   "outputs": [],
   "source": [
    "def kernel(X):\n",
    "    return np.dot(X, X.T)"
   ]
  },
  {
   "cell_type": "code",
   "execution_count": 14,
   "metadata": {},
   "outputs": [],
   "source": [
    "def gradient_descent(lam, lr, X, y):\n",
    "    nakami1 =  np.dot(np.dot(y,y.T),kernel(X))\n",
    "    nakami2 = 1 - np.dot(nakami1, lam)\n",
    "    return  lam +  lr*nakami2\n"
   ]
  },
  {
   "cell_type": "code",
   "execution_count": 22,
   "metadata": {},
   "outputs": [],
   "source": [
    "import numpy as np\n",
    "import matplotlib.pyplot as plt\n",
    "from matplotlib.colors import ListedColormap\n",
    "\n",
    "class ScratchSVMClassifier:\n",
    "    \"\"\"\n",
    "    サポートベクターマシンを実行するClass\n",
    "    \"\"\"\n",
    "    def __init__(self, num_iter=5000,\n",
    "                 lam=False,\n",
    "                 lr=0.0001,\n",
    "                 bias=False,\n",
    "                 coef=False,\n",
    "                 verbose=False,\n",
    "                 sv_index=False,\n",
    "                 x_sv=False,\n",
    "                 y_sv=False\n",
    "                ):\n",
    "\n",
    "        self.iter = num_iter\n",
    "        self.lam = lam\n",
    "        self.bias = bias\n",
    "        self.coef = coef\n",
    "        self.lr = lr\n",
    "        self.verbose = verbose\n",
    "        self.sv_index = sv_index\n",
    "        self.x_sv = x_sv\n",
    "        self.y_sv =y_sv\n",
    "\n",
    "    #λを更新し、λ>1e-5を満たすλを５つ以上探す\n",
    "    def _gradient_descent(self, X, y):\n",
    "        nakami1 =  np.dot(y,y.T) * kernel(X)\n",
    "        for i in range(self.iter):\n",
    "            if np.sum(self.lam>1*10**-5)<5:\n",
    "                nakami2 = 1 - np.dot(nakami1, self.lam)\n",
    "                self.lam += self.lr*nakami2\n",
    "                np.where(self.lam>=0, self.lam, 0)\n",
    "            else:\n",
    "                lamb_index = np.where(self.lam>1*10**-6)\n",
    "                break\n",
    "        return np.where(self.lam>1*10**-5)[0]\n",
    "\n",
    "    #学習\n",
    "    def fit(self, X, y):\n",
    "        self.lam = -np.random.rand(X.shape[0], 1)\n",
    "        X = np.insert(X, 0, 1, axis=1)\n",
    "        self.sv_index = self._gradient_descent( X, y)\n",
    "\n",
    "        #取り出したlamda,x,yからcoefを算出\n",
    "        self.lam_sv = np.reshape(self.lam[self.sv_index][0], (len(self.lam[self.sv_index][0]), 1))\n",
    "        self.x_sv = X[self.sv_index][0][np.newaxis, :]\n",
    "        self.y_sv = np.reshape(y[self.sv_index][0], (len(y[self.sv_index][0]), 1))\n",
    "        self.coef = np.dot(self.x_sv.T,self.y_sv*self.lam_sv)\n",
    "\n",
    "    #予測\n",
    "    def pred(self, X):\n",
    "        X = np.insert(X, 0, 1, axis=1)\n",
    "        y_pred = np.dot(np.dot(X, self.x_sv.T), (self.lam_sv*self.y_sv).T)\n",
    "        predict = np.where(y_pred>0, 1, -1)\n",
    "        return predict.flatten()\n",
    "\n",
    "    #プロット\n",
    "    def plot(self, X, y):\n",
    "        #決定境界を引く\n",
    "        x = range(-3, 4, 1)\n",
    "        plt.plot(x, (-self.coef[0] - self.coef[1]*x)/self.coef[2])\n",
    "\n",
    "        plt.scatter(X[np.where(y==1)[0], 0], X[np.where(y==1)[0], 1], c='red', label='1')\n",
    "        plt.scatter(X[np.where(y==-1)[0], 0], X[np.where(y==-1)[0], 1], c='blue', label='-1')\n",
    "        plt.scatter(X[np.where(self.lam>1*10**-5)[0],0],\n",
    "                    X[np.where(self.lam>1*10**-5)[0], 1],\n",
    "                    c='green',\n",
    "                    label='vs')\n",
    "        plt.legend()"
   ]
  },
  {
   "cell_type": "code",
   "execution_count": 23,
   "metadata": {},
   "outputs": [],
   "source": [
    "svm = ScratchSVMClassifier()"
   ]
  },
  {
   "cell_type": "code",
   "execution_count": 24,
   "metadata": {},
   "outputs": [
    {
     "name": "stdout",
     "output_type": "stream",
     "text": [
      "time : 0.0047969818115234375s\n"
     ]
    }
   ],
   "source": [
    "import time\n",
    "t0 = time.time()\n",
    "svm.fit(X_train, y_train)\n",
    "t1 = time.time()\n",
    "\n",
    "print('time : {}s'.format(t1-t0))\n"
   ]
  },
  {
   "cell_type": "markdown",
   "metadata": {
    "heading_collapsed": true
   },
   "source": [
    "### 【問題2】（アドバンス課題）多項式カーネル関数の作成"
   ]
  },
  {
   "cell_type": "markdown",
   "metadata": {},
   "source": [
    "## 検証"
   ]
  },
  {
   "cell_type": "markdown",
   "metadata": {},
   "source": [
    "### 【問題3】指標値の算出"
   ]
  },
  {
   "cell_type": "code",
   "execution_count": 25,
   "metadata": {
    "scrolled": true
   },
   "outputs": [
    {
     "data": {
      "text/plain": [
       "0.7666666666666667"
      ]
     },
     "execution_count": 25,
     "metadata": {},
     "output_type": "execute_result"
    }
   ],
   "source": [
    "from sklearn.metrics import accuracy_score\n",
    "\n",
    "accuracy_score(y_val, svm.pred(X_val))"
   ]
  },
  {
   "cell_type": "code",
   "execution_count": 26,
   "metadata": {},
   "outputs": [],
   "source": [
    "# import pickle\n",
    "\n",
    "# with open('model.svm', mode='wb') as fp:\n",
    "#    pickle.dump(svm, fp, protocol=2)"
   ]
  },
  {
   "cell_type": "markdown",
   "metadata": {},
   "source": [
    "### 【問題4】決定領域の可視化"
   ]
  },
  {
   "cell_type": "code",
   "execution_count": 27,
   "metadata": {},
   "outputs": [
    {
     "data": {
      "image/png": "[encoded data removed]",
      "text/plain": [
       "<Figure size 432x288 with 1 Axes>"
      ]
     },
     "metadata": {
      "needs_background": "light"
     },
     "output_type": "display_data"
    }
   ],
   "source": [
    "svm.plot(X_train, y_train)"
   ]
  },
  {
   "cell_type": "markdown",
   "metadata": {},
   "source": [
    "Sprint2で作成したシンプルデータセット1の分類"
   ]
  },
  {
   "cell_type": "code",
   "execution_count": 28,
   "metadata": {},
   "outputs": [],
   "source": [
    "\"\"\"\n",
    "シンプルデータセット1作成コード\n",
    "\"\"\"\n",
    "\n",
    "import numpy as np\n",
    "\n",
    "np.random.seed(seed=0)\n",
    "n_samples = 500\n",
    "f0= [-1, 2]\n",
    "f1 = [2, -1]\n",
    "cov = [[1.0,0.8], [0.8, 1.0]]\n",
    "\n",
    "f0 = np.random.multivariate_normal(f0, cov, int(n_samples/2))\n",
    "f1 = np.random.multivariate_normal(f1, cov, int(n_samples/2))\n",
    "\n",
    "X = np.concatenate((f0, f1))\n",
    "y = np.concatenate((np.ones((int(n_samples/2))), np.ones((int(n_samples/2))) *(-1))).astype(np.int)\n",
    "\n",
    "random_index = np.random.permutation(np.arange(n_samples))\n",
    "X_sample1 = X[random_index]\n",
    "y_sample1 = y[random_index]"
   ]
  },
  {
   "cell_type": "code",
   "execution_count": 29,
   "metadata": {},
   "outputs": [
    {
     "data": {
      "text/plain": [
       "0.556"
      ]
     },
     "execution_count": 29,
     "metadata": {},
     "output_type": "execute_result"
    }
   ],
   "source": [
    "# サンプルデータ１を使用した分類\n",
    "svm.pred(X_sample1)\n",
    "accuracy_score(y_sample1, svm.pred(X_sample1))"
   ]
  },
  {
   "cell_type": "code",
   "execution_count": 30,
   "metadata": {},
   "outputs": [
    {
     "data": {
      "image/png": "[encoded data removed]",
      "text/plain": [
       "<Figure size 432x288 with 1 Axes>"
      ]
     },
     "metadata": {
      "needs_background": "light"
     },
     "output_type": "display_data"
    }
   ],
   "source": [
    "svm.plot(X_sample1, y_sample1)"
   ]
  },
  {
   "cell_type": "markdown",
   "metadata": {},
   "source": [
    "明らかにおかしい。が、パラメータ等変更してもかわらなかった。"
   ]
  },
  {
   "cell_type": "code",
   "execution_count": null,
   "metadata": {},
   "outputs": [],
   "source": []
  },
  {
   "cell_type": "markdown",
   "metadata": {},
   "source": [
    "### 【問題5】時間の計測"
   ]
  },
  {
   "cell_type": "markdown",
   "metadata": {},
   "source": [
    "上記で実行済み"
   ]
  },
  {
   "cell_type": "markdown",
   "metadata": {},
   "source": [
    "### 【問題6】ロジスティック回帰とSVM"
   ]
  },
  {
   "cell_type": "markdown",
   "metadata": {},
   "source": [
    "ロジスティック回帰とSVMの本質的な違いは、  \n",
    "・カーネルを入れ替えることで非線形の分類もできる  \n",
    "　→カーネルを入れ替えるだけで、非線形の分類ができるってことはカーネルで説明変数を増やしてると思われる  \n",
    "・ロジスティック回帰が分類のモデルに対して、SVMは分類も連続値も求められる。  \n",
    "・ロジスティック回帰は確率から分類している。  "
   ]
  }
 ],
 "metadata": {
  "kernelspec": {
   "display_name": "Python 3",
   "language": "python",
   "name": "python3"
  },
  "language_info": {
   "codemirror_mode": {
    "name": "ipython",
    "version": 3
   },
   "file_extension": ".py",
   "mimetype": "text/x-python",
   "name": "python",
   "nbconvert_exporter": "python",
   "pygments_lexer": "ipython3",
   "version": "3.6.8"
  },
  "toc": {
   "base_numbering": 1,
   "nav_menu": {},
   "number_sections": false,
   "sideBar": true,
   "skip_h1_title": false,
   "title_cell": "Table of Contents",
   "title_sidebar": "Contents",
   "toc_cell": false,
   "toc_position": {},
   "toc_section_display": true,
   "toc_window_display": false
  }
 },
 "nbformat": 4,
 "nbformat_minor": 2
}
