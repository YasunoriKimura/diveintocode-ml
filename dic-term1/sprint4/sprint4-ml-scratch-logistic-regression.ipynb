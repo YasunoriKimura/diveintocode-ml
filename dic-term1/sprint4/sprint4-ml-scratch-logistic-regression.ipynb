{
 "cells": [
  {
   "cell_type": "markdown",
   "metadata": {},
   "source": [
    "# Sprint4課題 機械学習スクラッチロジスティック回帰"
   ]
  },
  {
   "cell_type": "markdown",
   "metadata": {},
   "source": [
    "使用するデータを作成"
   ]
  },
  {
   "cell_type": "code",
   "execution_count": 1,
   "metadata": {},
   "outputs": [],
   "source": [
    "\"\"\"\n",
    "irisデータを読み込むコード\n",
    "\"\"\"\n",
    "\n",
    "from sklearn.datasets import load_iris\n",
    "import pandas as pd\n",
    "from pandas import DataFrame\n",
    "import numpy as np\n",
    "from sklearn.model_selection import train_test_split\n",
    "from sklearn.preprocessing import StandardScaler\n",
    "\n",
    "data = load_iris()\n",
    "df_X = DataFrame(data=data.data, columns=pd.Index([\"sepal_length\", \"sepal_width\", \"petal_length\", \"petal_width\"]))\n",
    "df_y = DataFrame(data=data.target, columns=pd.Index([\"Target\"]))\n",
    "df_X =df_X[[\"sepal_length\", \"petal_length\"]]\n",
    "df_train= df_X.join(df_y).query(\"Target == [1, 2]\")\n",
    "X = df_train.drop(\"Target\", axis=1).values\n",
    "y = df_train[[\"Target\"]].values\n",
    "\n",
    "(X_train, X_val, y_train, y_val) = train_test_split(X, y, test_size=0.3)\n",
    "        \n",
    "#標準化\n",
    "scaler = StandardScaler()\n",
    "scaler.fit(X_train)\n",
    "X_train = scaler.transform(X_train)\n",
    "X_val = scaler.transform(X_val)\n",
    "y_train = y_train -1\n",
    "y_val = y_val -1"
   ]
  },
  {
   "cell_type": "markdown",
   "metadata": {},
   "source": [
    "## 【問題1】ロジスティック回帰のクラスを作成する"
   ]
  },
  {
   "cell_type": "markdown",
   "metadata": {},
   "source": [
    "### シグモイド関数\n",
    "$$\n",
    "g(z) = \\frac{1}{1+e^{−z}}\n",
    "$$\n",
    "シグモイド関数を実装しましょう。"
   ]
  },
  {
   "cell_type": "code",
   "execution_count": 3,
   "metadata": {},
   "outputs": [],
   "source": [
    "#シグモイド関数作成\n",
    "import numpy as np\n",
    "\n",
    "def sig(z):\n",
    "    return 1 / (1+np.exp(-z))"
   ]
  },
  {
   "cell_type": "code",
   "execution_count": 4,
   "metadata": {},
   "outputs": [
    {
     "data": {
      "text/plain": [
       "[<matplotlib.lines.Line2D at 0x1a15288ba8>]"
      ]
     },
     "execution_count": 4,
     "metadata": {},
     "output_type": "execute_result"
    }
   ],
   "source": [
    "#-10から10の値を入力したときの出力をプロット\n",
    "import matplotlib.pyplot as plt\n",
    "x = range(-10, 11, 1)\n",
    "y = [sig(i) for i in x]\n",
    "\n",
    "plt.title('sigmoid')\n",
    "plt.plot(x, y)"
   ]
  },
  {
   "cell_type": "markdown",
   "metadata": {},
   "source": [
    "### 目的関数\n",
    "\n",
    "以下の数式で表されるロジスティック回帰の目的関数\n",
    "J\n",
    "を実装してください。この数式には正則化項が含まれています。\n",
    "\n",
    "$$\n",
    "h_θ(x) = g(θ^T x).\\\\\n",
    "g(z) = \\frac{1}{1+e^{−z}}.\\\\\n",
    "J(\\theta)=  \\frac{1}{m}  \\sum_{i=1}^{m}[−y^{(i)} log(h_θ(x^{(i)})) − (1−y^{(i)}) log(1−h_θ(x^{(i)}))] +\n",
    "\\frac{λ}{2m}\\sum_{j=1}^n\n",
    "θ^2_j.\\\\\n",
    "$$\n",
    "\n",
    "m\n",
    " : 入力されるデータの数\n",
    "\n",
    "m\n",
    " : 入力されるデータの数\n",
    "\n",
    "h\n",
    "θ\n",
    "(\n",
    ")\n",
    " : 仮定関数\n",
    "\n",
    "x\n",
    " : 特徴量ベクトル\n",
    "\n",
    "θ\n",
    " : パラメータベクトル\n",
    "\n",
    "g\n",
    "(\n",
    ")\n",
    " : シグモイド関数\n",
    "\n",
    "x\n",
    "(\n",
    "i\n",
    ")\n",
    " : i番目のサンプルの特徴量ベクトル\n",
    "\n",
    "y\n",
    "(\n",
    "i\n",
    ")\n",
    " : i番目のサンプルの正解ラベル\n",
    "\n",
    "θ\n",
    "j\n",
    " : j番目のパラメータ（重み）\n",
    "\n",
    "λ\n",
    " : 正則化パラメータ"
   ]
  },
  {
   "cell_type": "code",
   "execution_count": null,
   "metadata": {},
   "outputs": [],
   "source": [
    "def logstic_hypothesis(X, theta):\n",
    "    \"\"\"\n",
    "    input : m行n列の行列\n",
    "    return : 数値\n",
    "    \"\"\"\n",
    "    return sig(np.dot(theta.T, X))"
   ]
  },
  {
   "cell_type": "code",
   "execution_count": null,
   "metadata": {},
   "outputs": [],
   "source": [
    "def J_func(X, y, theta):\n",
    "    nakami = -y*np.log(logstic_hypothesis(X,theta)) - (1-y)*np.log(1-logstic_hypothesis(X,theta))\n",
    "    J = (1/m)*sum(nakami) + (lam/2*m)*sum(theta**2)"
   ]
  },
  {
   "cell_type": "markdown",
   "metadata": {},
   "source": [
    "### 最急降下法\n",
    "最急降下法により学習させてください。バイアス項およびj番目のパラメータの更新には以下の式を使います。\n",
    "\n",
    "$$\n",
    "\\frac{\\partial J(\\theta)}{\\partial \\theta_0} = \\frac{1}{m}  \\sum_{i=1}^{m}(h_θ(x^{(i)}) − y^{(i)})x_j^{(i)}  ,j = 0\\\\\n",
    "\\frac{\\partial J(\\theta)}{\\partial \\theta_j} = \\biggl(\\frac{1}{m}  \\sum_{i=1}^{m}(h_θ(x^{(i)}) − y^{(i)})x_j^{(i)} \\biggr) + \\frac{λ}{m}\\theta_j　 ,j\\geq 1\n",
    "$$\n",
    "\n",
    "i\n",
    " : サンプルのインデックス\n",
    "\n",
    "j\n",
    " : 特徴量のインデックス"
   ]
  },
  {
   "cell_type": "markdown",
   "metadata": {},
   "source": [
    "### 実装"
   ]
  },
  {
   "cell_type": "code",
   "execution_count": 6,
   "metadata": {},
   "outputs": [],
   "source": [
    "# from utils.logistic import ScratchLogisticRegression\n",
    "# logistic = ScratchLogisticRegression(lam=0.005)\n",
    "\n",
    "#importからではなく、pickleで呼び出す\n",
    "# import pickle\n",
    "\n",
    "# with open('model.pickle', 'rb') as fp:\n",
    "#    clf = pickle.load(fp)"
   ]
  },
  {
   "cell_type": "code",
   "execution_count": 453,
   "metadata": {},
   "outputs": [],
   "source": [
    "clf.fit(X_train, y_train, X_val, y_val)"
   ]
  },
  {
   "cell_type": "markdown",
   "metadata": {},
   "source": [
    "## 【問題2】学習曲線のプロット"
   ]
  },
  {
   "cell_type": "code",
   "execution_count": 454,
   "metadata": {},
   "outputs": [
    {
     "data": {
      "image/png": "[encoded data removed]",
      "text/plain": [
       "<Figure size 432x288 with 1 Axes>"
      ]
     },
     "metadata": {
      "needs_background": "light"
     },
     "output_type": "display_data"
    }
   ],
   "source": [
    "clf.plot()"
   ]
  },
  {
   "cell_type": "markdown",
   "metadata": {},
   "source": [
    "## 【問題3】指標値の算出"
   ]
  },
  {
   "cell_type": "code",
   "execution_count": 455,
   "metadata": {},
   "outputs": [
    {
     "data": {
      "text/plain": [
       "0.9728506787330315"
      ]
     },
     "execution_count": 455,
     "metadata": {},
     "output_type": "execute_result"
    }
   ],
   "source": [
    "from sklearn.metrics import roc_auc_score\n",
    "from sklearn.metrics import accuracy_score\n",
    "\n",
    "y_predict_proba = clf.predict_proba(X_val)\n",
    "\n",
    "#AUCを求める\n",
    "roc_auc_score(y_val, y_predict_proba[:,1])\n"
   ]
  },
  {
   "cell_type": "code",
   "execution_count": 456,
   "metadata": {},
   "outputs": [
    {
     "data": {
      "text/plain": [
       "0.8333333333333334"
      ]
     },
     "execution_count": 456,
     "metadata": {},
     "output_type": "execute_result"
    }
   ],
   "source": [
    "#accuracyを求める\n",
    "accuracy_score(y_val, logistic.predict(X_val))"
   ]
  },
  {
   "cell_type": "markdown",
   "metadata": {},
   "source": [
    "## 【問題4】決定領域の可視化"
   ]
  },
  {
   "cell_type": "markdown",
   "metadata": {},
   "source": [
    "決定曲線は求めるには  \n",
    "θ0+θ1＊X1+θ2＊X2=0\n",
    "から求めることができる。"
   ]
  },
  {
   "cell_type": "code",
   "execution_count": 457,
   "metadata": {},
   "outputs": [
    {
     "data": {
      "image/png": "[encoded data removed]",
      "text/plain": [
       "<Figure size 432x288 with 1 Axes>"
      ]
     },
     "metadata": {
      "needs_background": "light"
     },
     "output_type": "display_data"
    }
   ],
   "source": [
    "clf.scatter(X_train, y_train)"
   ]
  },
  {
   "cell_type": "markdown",
   "metadata": {},
   "source": [
    "## 【問題5】（アドバンス課題）重みの保存"
   ]
  },
  {
   "cell_type": "code",
   "execution_count": 409,
   "metadata": {},
   "outputs": [],
   "source": [
    "# import pickle\n",
    "\n",
    "# with open('model.pickle', mode='wb') as fp:\n",
    "#    pickle.dump(logistic, fp, protocol=2)"
   ]
  },
  {
   "cell_type": "code",
   "execution_count": 410,
   "metadata": {},
   "outputs": [],
   "source": [
    "with open('model.pickle', 'rb') as fp:\n",
    "   clf = pickle.load(fp)"
   ]
  },
  {
   "cell_type": "markdown",
   "metadata": {},
   "source": [
    "## 【問題6】分類と回帰\n",
    "\n",
    "異なっている点は、回帰問題は連続値を求めるのに対して、分類問題は離散値を求める点である。  \n",
    "ロジスティック回帰においては、確率スコアを閾値で分類にしている。  \n",
    "また、評価指数として分類はAccuracy、Precision、recall、F値を算出され、回帰では平均二乗誤差を算出している。"
   ]
  }
 ],
 "metadata": {
  "kernelspec": {
   "display_name": "Python 3",
   "language": "python",
   "name": "python3"
  },
  "language_info": {
   "codemirror_mode": {
    "name": "ipython",
    "version": 3
   },
   "file_extension": ".py",
   "mimetype": "text/x-python",
   "name": "python",
   "nbconvert_exporter": "python",
   "pygments_lexer": "ipython3",
   "version": "3.6.8"
  },
  "toc": {
   "base_numbering": 1,
   "nav_menu": {},
   "number_sections": false,
   "sideBar": true,
   "skip_h1_title": false,
   "title_cell": "Table of Contents",
   "title_sidebar": "Contents",
   "toc_cell": false,
   "toc_position": {},
   "toc_section_display": true,
   "toc_window_display": false
  }
 },
 "nbformat": 4,
 "nbformat_minor": 2
}
