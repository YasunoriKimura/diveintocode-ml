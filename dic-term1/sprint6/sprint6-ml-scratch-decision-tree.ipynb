{
 "cells": [
  {
   "cell_type": "markdown",
   "metadata": {},
   "source": [
    "# Sprint6課題 機械学習スクラッチ決定木"
   ]
  },
  {
   "cell_type": "code",
   "execution_count": 1,
   "metadata": {},
   "outputs": [],
   "source": [
    "#サンプルデータ\n",
    "import numpy as np\n",
    "from sklearn.model_selection import train_test_split\n",
    "\n",
    "np.random.seed(seed=0)\n",
    "n_samples = 500\n",
    "f0= [-1, 2]\n",
    "f1 = [2, -1]\n",
    "cov = [[1.0,0.8], [0.8, 1.0]]\n",
    "\n",
    "f0 = np.random.multivariate_normal(f0, cov, int(n_samples/2))\n",
    "f1 = np.random.multivariate_normal(f1, cov, int(n_samples/2))\n",
    "\n",
    "X = np.concatenate((f0, f1))\n",
    "y = np.concatenate((np.ones((int(n_samples/2))), np.ones((int(n_samples/2))) *(-1))).astype(np.int)\n",
    "\n",
    "random_index = np.random.permutation(np.arange(n_samples))\n",
    "X = X[random_index]\n",
    "y = y[random_index]\n",
    "\n",
    "(X_train, X_val, y_train, y_val) = train_test_split(X, y, test_size=0.3)"
   ]
  },
  {
   "cell_type": "markdown",
   "metadata": {},
   "source": [
    "## 【問題1】ジニ不純度を求める関数\n",
    "\n",
    "$$\n",
    "I(t) = 1-\\sum_{i=1}^{K}P^2(C_i|t) = 1-\\sum_{i=1}^{K}(\\frac{N_{t,i}}{N_{t,all}})^{2}\n",
    "$$"
   ]
  },
  {
   "cell_type": "code",
   "execution_count": 2,
   "metadata": {},
   "outputs": [
    {
     "data": {
      "text/plain": [
       "0.1013963032430785"
      ]
     },
     "execution_count": 2,
     "metadata": {},
     "output_type": "execute_result"
    }
   ],
   "source": [
    "import numpy as np\n",
    "\n",
    "def gini_impurity(X, y):\n",
    "    #特徴量数\n",
    "#     feature_num = X.shape[1]\n",
    "    \n",
    "    label_a, label_b = np.unique(y)\n",
    "    # total_impurityを格納するarrayを作成\n",
    "    total_impurity_list = np.array ([])\n",
    "    \n",
    "    for i in X[:1, 0]:\n",
    "        #iを閾値としてover,underに分ける\n",
    "        over_count, over_index = sum(X[:, 0] >= i), np.where(X[:, 0] >= i)[0]\n",
    "        under_count, under_index = len(X) - over_count, np.where(X[:, 0] < i)[0]\n",
    "        label_a_over, label_b_over  = np.sum(y[over_index] == label_a), np.sum(y[over_index] == label_b)\n",
    "        label_a_under, label_b_under = np.sum(y[under_index] == label_a), np.sum(y[under_index] == label_b)\n",
    "\n",
    "        impurity_over = 1 - ((label_a_over/over_count)**2+(label_b_over/over_count)**2)\n",
    "        impurity_under = 1 - ((label_a_under/under_count)**2+(label_b_under/under_count)**2)\n",
    "\n",
    "        total_impurity = (over_count/len(X))*(impurity_over) + (under_count/len(X))*(impurity_under)\n",
    "\n",
    "    return total_impurity\n",
    "gini_impurity(X, y)"
   ]
  },
  {
   "cell_type": "markdown",
   "metadata": {},
   "source": [
    "## 【問題2】情報利得を求める関数\n",
    "\n",
    "$$\n",
    "IG(p) = I(p)-\\frac{N_{left,all}}{N_{p,all}}I(left)-\\frac{N_{right,all}}{N_{p,all}}I(right)\n",
    "$$"
   ]
  },
  {
   "cell_type": "markdown",
   "metadata": {},
   "source": [
    "## 【問題3】深さ1の決定木分類器クラスの作成"
   ]
  },
  {
   "cell_type": "code",
   "execution_count": 11,
   "metadata": {},
   "outputs": [],
   "source": [
    "import numpy as np\n",
    "import matplotlib.pyplot as plt\n",
    "\n",
    "class ScratchDecesionTreeClassifier:\n",
    "    \"\"\"\n",
    "    決定木を実行するClass\n",
    "    \"\"\"\n",
    "    def __init__(self, criterion='gini', label_a=False, label_b=False, max_information_gain=False, threshold=False):\n",
    "        self.criterion = criterion\n",
    "        self.label_a = label_a\n",
    "        self.label_b = label_b\n",
    "        self.max_information_gain = max_information_gain\n",
    "        self.threshold = threshold\n",
    "\n",
    "\n",
    "\n",
    "    def _calculate_gini_impurity(self, label_a_count, label_b_count):\n",
    "        \"\"\"\n",
    "        ジニ不純度を算出する関数\n",
    "        \"\"\"\n",
    "        #入力されたラベル合計を算出\n",
    "        total_label_count = label_a_count + label_b_count\n",
    "\n",
    "        #ジニ不純度を算出\n",
    "        total_impurity = 1 - (label_a_count/total_label_count)**2 - (label_b_count/total_label_count)**2\n",
    "\n",
    "        return total_impurity\n",
    "\n",
    "\n",
    "    def fit(self, X, y):\n",
    "        self.label_a, self.label_b = np.unique(y)\n",
    "        label_a_count, label_b_count = np.sum(y == self.label_a), np.sum(y == self.label_b)\n",
    "        #親ノードのジニ不純度を算出\n",
    "        ip = self._calculate_gini_impurity(label_a_count, label_b_count)\n",
    "\n",
    "        information_gain_list = np.array([])\n",
    "\n",
    "        for i in range(X.shape[1]):\n",
    "            for j in X[:, i]:\n",
    "                #iを閾値としてover,underの数とindex分ける\n",
    "                over_count, over_index = sum(X[:, 0] >= j), np.where(X[:, 0] >= j)[0]\n",
    "                under_count, under_index = len(X) - over_count, np.where(X[:, 0] < j)[0]\n",
    "\n",
    "                #overとunderについて、ラベルごとの数をカウント\n",
    "                label_a_over_count, label_b_over_count  = np.sum(y[over_index] == self.label_a), np.sum(y[over_index] == self.label_b)\n",
    "                label_a_under_count, label_b_under_count = np.sum(y[under_index] == self.label_a), np.sum(y[under_index] == self.label_b)\n",
    "\n",
    "                #over(左ノード)、under(右ノード)のジニ不純度を算出\n",
    "                impurity_over = self._calculate_gini_impurity(label_a_over_count, label_b_over_count)\n",
    "                impurity_under = self._calculate_gini_impurity(label_a_under_count, label_b_under_count)\n",
    "                left = (over_count/(over_count+under_count)) * impurity_over\n",
    "                right = (under_count/(over_count+under_count)) * impurity_under\n",
    "\n",
    "                #情報利得を算出\n",
    "                information_gain = ip - (left + right)\n",
    "\n",
    "                #情報利得をarrayに追加, nanがある場合は0に置き換え\n",
    "                information_gain_list = np.hstack([information_gain_list, information_gain])\n",
    "                information_gain_list= np.where(information_gain_list != information_gain_list, 0, information_gain_list)\n",
    "\n",
    "        #最大のinformation_gainを抽出\n",
    "        self.max_information_gain= np.max(information_gain_list)\n",
    "        \n",
    "        #information_gainが最大の時の閾値を抽出\n",
    "        self.threshold = X[np.argmax(information_gain_list)]\n",
    "\n",
    "\n",
    "    def predict(self, X_predict):\n",
    "        #閾値を基準にover,underに分ける\n",
    "        predict_over_count, predict_over_index = sum(X_predict[:, 0] >= self.max_information_gain), np.where(X_predict[:, 0] >= self.max_information_gain)[0]\n",
    "        predict_under_count, predict_under_index = len(X_predict) - predict_over_count, np.where(X_predict[:, 0] < self.max_information_gain)[0]\n",
    "\n",
    "        #arrayを作成\n",
    "        y_predict = np.zeros(len(X_predict))\n",
    "\n",
    "        #over,underそれぞれにlabel_a,label_bを代入\n",
    "        y_predict[predict_over_index] = self.label_a\n",
    "        y_predict[predict_under_index] = self.label_b\n",
    "        return y_predict\n",
    "\n",
    "    def plot(self, X, y):\n",
    "        plt.scatter(X[np.where(y==self.label_a)[0], 0], \n",
    "                    X[np.where(y==self.label_a)[0], 1], \n",
    "                    c='blue', label=self.label_a)\n",
    "        plt.scatter(X[np.where(y==self.label_b)[0], 0],\n",
    "                    X[np.where(y==self.label_b)[0], 1],\n",
    "                    c='red', label=self.label_b)\n",
    "        plt.plot([-5, 5], [self.threshold[0], self.threshold[0]], 'g')\n",
    "\n",
    "        plt.legend()\n"
   ]
  },
  {
   "cell_type": "code",
   "execution_count": 17,
   "metadata": {},
   "outputs": [],
   "source": [
    "sample_sdt = ScratchDecesionTreeClassifier()"
   ]
  },
  {
   "cell_type": "code",
   "execution_count": 18,
   "metadata": {
    "scrolled": true
   },
   "outputs": [
    {
     "name": "stderr",
     "output_type": "stream",
     "text": [
      "/Users/clouds_kimura/anaconda3/envs/pythonml/lib/python3.6/site-packages/ipykernel_launcher.py:25: RuntimeWarning: invalid value encountered in long_scalars\n"
     ]
    }
   ],
   "source": [
    "sample_sdt.fit(X_train, y_train)"
   ]
  },
  {
   "cell_type": "code",
   "execution_count": 19,
   "metadata": {},
   "outputs": [
    {
     "data": {
      "text/plain": [
       "array([-1.,  1., -1.,  1., -1., -1., -1., -1.,  1., -1., -1., -1.,  1.,\n",
       "        1., -1., -1., -1.,  1., -1., -1., -1.,  1., -1., -1., -1.,  1.,\n",
       "       -1.,  1.,  1.,  1.,  1.,  1., -1.,  1., -1.,  1., -1., -1.,  1.,\n",
       "        1., -1.,  1.,  1.,  1., -1., -1., -1., -1., -1., -1., -1.,  1.,\n",
       "        1.,  1.,  1., -1., -1.,  1.,  1., -1.,  1., -1., -1.,  1., -1.,\n",
       "        1.,  1., -1., -1.,  1.,  1.,  1.,  1., -1.,  1.,  1., -1.,  1.,\n",
       "       -1.,  1., -1., -1., -1., -1., -1., -1.,  1., -1.,  1., -1.,  1.,\n",
       "        1., -1., -1.,  1., -1.,  1., -1., -1.,  1.,  1., -1.,  1.,  1.,\n",
       "        1., -1.,  1., -1.,  1.,  1., -1., -1., -1.,  1.,  1.,  1.,  1.,\n",
       "        1., -1., -1.,  1.,  1.,  1.,  1., -1., -1., -1., -1.,  1.,  1.,\n",
       "       -1., -1., -1.,  1.,  1., -1., -1., -1., -1., -1.,  1.,  1.,  1.,\n",
       "       -1., -1., -1.,  1.,  1., -1.,  1.])"
      ]
     },
     "execution_count": 19,
     "metadata": {},
     "output_type": "execute_result"
    }
   ],
   "source": [
    "sample_sdt.predict(X_val)"
   ]
  },
  {
   "cell_type": "markdown",
   "metadata": {},
   "source": [
    "## 【問題6】指標値の算出"
   ]
  },
  {
   "cell_type": "code",
   "execution_count": 22,
   "metadata": {},
   "outputs": [
    {
     "data": {
      "text/plain": [
       "0.9266666666666666"
      ]
     },
     "execution_count": 22,
     "metadata": {},
     "output_type": "execute_result"
    }
   ],
   "source": [
    "from sklearn.metrics import accuracy_score\n",
    "\n",
    "accuracy_score(y_val, sample_sdt.predict(X_val))"
   ]
  },
  {
   "cell_type": "markdown",
   "metadata": {},
   "source": [
    "## 【問題7】決定領域の可視化"
   ]
  },
  {
   "cell_type": "code",
   "execution_count": 21,
   "metadata": {
    "scrolled": true
   },
   "outputs": [
    {
     "data": {
      "image/png": "[encoded data removed]",
      "text/plain": [
       "<Figure size 432x288 with 1 Axes>"
      ]
     },
     "metadata": {
      "needs_background": "light"
     },
     "output_type": "display_data"
    }
   ],
   "source": [
    "sample_sdt.plot(X_val, y_val)"
   ]
  },
  {
   "cell_type": "markdown",
   "metadata": {},
   "source": [
    "## 【問題8】決定木の利用場面"
   ]
  },
  {
   "cell_type": "markdown",
   "metadata": {},
   "source": [
    "前処理が少なくて良い  \n",
    "解釈が比較的容易である。"
   ]
  }
 ],
 "metadata": {
  "kernelspec": {
   "display_name": "Python 3",
   "language": "python",
   "name": "python3"
  },
  "language_info": {
   "codemirror_mode": {
    "name": "ipython",
    "version": 3
   },
   "file_extension": ".py",
   "mimetype": "text/x-python",
   "name": "python",
   "nbconvert_exporter": "python",
   "pygments_lexer": "ipython3",
   "version": "3.6.8"
  },
  "toc": {
   "base_numbering": 1,
   "nav_menu": {},
   "number_sections": false,
   "sideBar": true,
   "skip_h1_title": false,
   "title_cell": "Table of Contents",
   "title_sidebar": "Contents",
   "toc_cell": false,
   "toc_position": {},
   "toc_section_display": true,
   "toc_window_display": false
  }
 },
 "nbformat": 4,
 "nbformat_minor": 2
}
